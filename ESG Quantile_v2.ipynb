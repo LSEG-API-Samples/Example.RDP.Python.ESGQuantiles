{
 "cells": [
  {
   "cell_type": "markdown",
   "metadata": {},
   "source": [
    "# ESG Scorecard"
   ]
  },
  {
   "cell_type": "code",
   "execution_count": 1,
   "metadata": {},
   "outputs": [
    {
     "data": {
      "text/html": [
       "        <script type=\"text/javascript\">\n",
       "        window.PlotlyConfig = {MathJaxConfig: 'local'};\n",
       "        if (window.MathJax) {MathJax.Hub.Config({SVG: {font: \"STIX-Web\"}});}\n",
       "        if (typeof require !== 'undefined') {\n",
       "        require.undef(\"plotly\");\n",
       "        requirejs.config({\n",
       "            paths: {\n",
       "                'plotly': ['https://cdn.plot.ly/plotly-latest.min']\n",
       "            }\n",
       "        });\n",
       "        require(['plotly'], function(Plotly) {\n",
       "            window._Plotly = Plotly;\n",
       "        });\n",
       "        }\n",
       "        </script>\n",
       "        "
      ]
     },
     "metadata": {},
     "output_type": "display_data"
    }
   ],
   "source": [
    "import pandas as pd\n",
    "import requests, json, math, time\n",
    "import plotly.offline as offline\n",
    "import plotly.graph_objects as go\n",
    "from plotly.subplots import make_subplots\n",
    "offline.offline.init_notebook_mode(connected=True)"
   ]
  },
  {
   "cell_type": "code",
   "execution_count": 2,
   "metadata": {},
   "outputs": [],
   "source": [
    "APP_KEY                     = ''\n",
    "RDP_LOGIN                   = ''\n",
    "RDP_PASSWORD                = ''"
   ]
  },
  {
   "cell_type": "markdown",
   "metadata": {},
   "source": [
    "## Platform function defines"
   ]
  },
  {
   "cell_type": "code",
   "execution_count": 3,
   "metadata": {},
   "outputs": [],
   "source": [
    "tknObject = {}\n",
    "\n",
    "def getToken():\n",
    "    global tknObject\n",
    "    if 'expiry_tm' in tknObject and tknObject['expiry_tm'] > time.time():\n",
    "        return tknObject[\"access_token\"]\n",
    "\n",
    "    print('Getting access token...')\n",
    "    if 'refresh_token' in tknObject:\n",
    "        tData = {\n",
    "            'refresh_token': tknObject['refresh_token'],\n",
    "            'grant_type': \"refresh_token\",\n",
    "        }\n",
    "    else:\n",
    "        tData = {\n",
    "            'username': RDP_LOGIN,\n",
    "            'password': RDP_PASSWORD,\n",
    "            'grant_type': 'password',\n",
    "            'scope': 'trapi',\n",
    "            'takeExclusiveSignOnControl': 'true'\n",
    "        }\n",
    "    \n",
    "    response = requests.post('https://api.refinitiv.com/auth/oauth2/v1/token',\n",
    "        headers = {'Accept': 'application/json'},\n",
    "        data = tData,\n",
    "        auth = (APP_KEY, ''))\n",
    "\n",
    "    if response.status_code != 200:\n",
    "        raise Exception('Failed to get access token {0} - {1}'.format(response.status_code, response.text))\n",
    "\n",
    "    tknObject = json.loads(response.text)\n",
    "    tknObject[\"expiry_tm\"] = time.time() + int(tknObject[\"expires_in\"]) - 10\n",
    "    return tknObject['access_token']\n"
   ]
  },
  {
   "cell_type": "code",
   "execution_count": 4,
   "metadata": {},
   "outputs": [],
   "source": [
    "def getRequest(URL, requestData):\n",
    "    dResp = requests.get(URL, headers = {'Authorization': 'Bearer ' + getToken()}, params = requestData)\n",
    "\n",
    "    if dResp.status_code != 200:\n",
    "        raise Exception('Request failed {0} - {1}'.format(dResp.status_code, dResp.text))\n",
    "    else:\n",
    "        jResp = json.loads(dResp.text)\n",
    "        return jResp "
   ]
  },
  {
   "cell_type": "code",
   "execution_count": 5,
   "metadata": {},
   "outputs": [],
   "source": [
    "def postRequest(URL, requestData):\n",
    "    dResp = requests.post(URL, headers = {'Authorization': 'Bearer ' + getToken(),  'Content-Type': 'application/json'}, data = json.dumps(requestData))\n",
    "    if dResp.status_code != 200:\n",
    "        raise Exception('Request failed {0} - {1}'.format(dResp.status_code, dResp.text))\n",
    "    else:\n",
    "        jResp = json.loads(dResp.text)\n",
    "        return jResp"
   ]
  },
  {
   "cell_type": "markdown",
   "metadata": {},
   "source": [
    "## Get data and save "
   ]
  },
  {
   "cell_type": "code",
   "execution_count": 6,
   "metadata": {
    "scrolled": true
   },
   "outputs": [
    {
     "name": "stdout",
     "output_type": "stream",
     "text": [
      "Getting access token...\n",
      "ESG Universe item count: 9911\n"
     ]
    },
    {
     "data": {
      "text/html": [
       "<div>\n",
       "<style scoped>\n",
       "    .dataframe tbody tr th:only-of-type {\n",
       "        vertical-align: middle;\n",
       "    }\n",
       "\n",
       "    .dataframe tbody tr th {\n",
       "        vertical-align: top;\n",
       "    }\n",
       "\n",
       "    .dataframe thead th {\n",
       "        text-align: right;\n",
       "    }\n",
       "</style>\n",
       "<table border=\"1\" class=\"dataframe\">\n",
       "  <thead>\n",
       "    <tr style=\"text-align: right;\">\n",
       "      <th></th>\n",
       "      <th>PrimaryRIC</th>\n",
       "      <th>Common Name</th>\n",
       "    </tr>\n",
       "    <tr>\n",
       "      <th>Instrument</th>\n",
       "      <th></th>\n",
       "      <th></th>\n",
       "    </tr>\n",
       "  </thead>\n",
       "  <tbody>\n",
       "    <tr>\n",
       "      <th>4295533401</th>\n",
       "      <td>RST^J20</td>\n",
       "      <td>Rosetta Stone Inc</td>\n",
       "    </tr>\n",
       "    <tr>\n",
       "      <th>4295613014</th>\n",
       "      <td>PWF.TO^B20</td>\n",
       "      <td>Power Financial Corp</td>\n",
       "    </tr>\n",
       "    <tr>\n",
       "      <th>4295641240</th>\n",
       "      <td>KE.O</td>\n",
       "      <td>Kimball Electronics Inc</td>\n",
       "    </tr>\n",
       "    <tr>\n",
       "      <th>4295856018</th>\n",
       "      <td>PATA.BA</td>\n",
       "      <td>Importadora y Exportadora de la Patagonia SA</td>\n",
       "    </tr>\n",
       "    <tr>\n",
       "      <th>4295856019</th>\n",
       "      <td>COME.BA</td>\n",
       "      <td>Sociedad Comercial del Plata SA</td>\n",
       "    </tr>\n",
       "  </tbody>\n",
       "</table>\n",
       "</div>"
      ],
      "text/plain": [
       "            PrimaryRIC                                   Common Name\n",
       "Instrument                                                          \n",
       "4295533401     RST^J20                             Rosetta Stone Inc\n",
       "4295613014  PWF.TO^B20                          Power Financial Corp\n",
       "4295641240        KE.O                       Kimball Electronics Inc\n",
       "4295856018     PATA.BA  Importadora y Exportadora de la Patagonia SA\n",
       "4295856019     COME.BA               Sociedad Comercial del Plata SA"
      ]
     },
     "metadata": {},
     "output_type": "display_data"
    }
   ],
   "source": [
    "# get the ESG coverage universe\n",
    "_jUniv = getRequest('https://api.refinitiv.com/data/environmental-social-governance/v1/universe', {})\n",
    "masterDF = pd.DataFrame(_jUniv['data'], columns=['Instrument', 'PrimaryRIC', 'Common Name']).set_index('Instrument')\n",
    "print('ESG Universe item count: %d' % len(masterDF))\n",
    "display(masterDF.head())"
   ]
  },
  {
   "cell_type": "code",
   "execution_count": 7,
   "metadata": {},
   "outputs": [],
   "source": [
    "# break up ESG universe into buckets and get ESG scores and TRBC code for it\n",
    "bucketSize = 100\n",
    "counter = 0\n",
    "_actualList = masterDF.index.tolist()\n",
    "listBuckets = [_actualList[i:i + bucketSize] for i in range(0, len(_actualList), bucketSize)]"
   ]
  },
  {
   "cell_type": "code",
   "execution_count": 8,
   "metadata": {},
   "outputs": [
    {
     "name": "stdout",
     "output_type": "stream",
     "text": [
      "Getting bucket: 10\n",
      "Getting bucket: 20\n",
      "Getting bucket: 30\n",
      "Getting bucket: 40\n",
      "Getting bucket: 50\n",
      "Getting bucket: 60\n",
      "Getting bucket: 70\n",
      "Getting bucket: 80\n",
      "Getting bucket: 90\n",
      "Getting bucket: 100\n"
     ]
    }
   ],
   "source": [
    "valuesDF = pd.DataFrame()\n",
    "for bList in listBuckets:\n",
    "    counter += 1\n",
    "    if not (counter % 10):\n",
    "        print('Getting bucket: %d' % counter)\n",
    "    _scores = getRequest('https://api.refinitiv.com/data/environmental-social-governance/v1/views/scores-standard?universe=' + ','.join(bList), {\"start\": 0, \"end\": 0})\n",
    "    _tempDF1 = pd.DataFrame(_scores['data'], columns=[d['title'] for d in _scores['headers']]).set_index('Instrument')\n",
    "    searchReq = {\n",
    "        \"View\": \"Organisations\",\n",
    "        \"Filter\": \"OAPermID in (\\'\" + '\\' \\''.join(bList) + \"\\')\",\n",
    "        \"Select\": \"OAPermID, TRBCHierarchicalCode, TRBCHierarchicalCodeMeaning\",\n",
    "        \"Top\": bucketSize*2\n",
    "    }\n",
    "    _trbcCodes = postRequest('https://api.refinitiv.com/discovery/search/v1/', searchReq)\n",
    "    _tempDF2 = pd.DataFrame(_trbcCodes['Hits']).rename(columns={\"OAPermID\": \"Instrument\"}).set_index('Instrument')\n",
    "    valuesDF = valuesDF.append(_tempDF1.join(_tempDF2)) \n"
   ]
  },
  {
   "cell_type": "code",
   "execution_count": 9,
   "metadata": {},
   "outputs": [
    {
     "data": {
      "text/html": [
       "<div>\n",
       "<style scoped>\n",
       "    .dataframe tbody tr th:only-of-type {\n",
       "        vertical-align: middle;\n",
       "    }\n",
       "\n",
       "    .dataframe tbody tr th {\n",
       "        vertical-align: top;\n",
       "    }\n",
       "\n",
       "    .dataframe thead th {\n",
       "        text-align: right;\n",
       "    }\n",
       "</style>\n",
       "<table border=\"1\" class=\"dataframe\">\n",
       "  <thead>\n",
       "    <tr style=\"text-align: right;\">\n",
       "      <th></th>\n",
       "      <th>Instrument</th>\n",
       "      <th>Common Name</th>\n",
       "      <th>Period End Date</th>\n",
       "      <th>ESG Combined Score</th>\n",
       "      <th>ESG Score</th>\n",
       "      <th>ESG Controversies Score</th>\n",
       "      <th>Environment Pillar Score</th>\n",
       "      <th>Social Pillar Score</th>\n",
       "      <th>Governance Pillar Score</th>\n",
       "      <th>Resource Use Score</th>\n",
       "      <th>...</th>\n",
       "      <th>Community Score</th>\n",
       "      <th>Product Responsibility Score</th>\n",
       "      <th>Management Score</th>\n",
       "      <th>Shareholders Score</th>\n",
       "      <th>CSR Strategy Score</th>\n",
       "      <th>ESG Reporting Scope</th>\n",
       "      <th>ESG Report Auditor Name</th>\n",
       "      <th>ESG Period Last Update Date</th>\n",
       "      <th>TRBCHierarchicalCode</th>\n",
       "      <th>TRBCHierarchicalCodeMeaning</th>\n",
       "    </tr>\n",
       "    <tr>\n",
       "      <th>PrimaryRIC</th>\n",
       "      <th></th>\n",
       "      <th></th>\n",
       "      <th></th>\n",
       "      <th></th>\n",
       "      <th></th>\n",
       "      <th></th>\n",
       "      <th></th>\n",
       "      <th></th>\n",
       "      <th></th>\n",
       "      <th></th>\n",
       "      <th></th>\n",
       "      <th></th>\n",
       "      <th></th>\n",
       "      <th></th>\n",
       "      <th></th>\n",
       "      <th></th>\n",
       "      <th></th>\n",
       "      <th></th>\n",
       "      <th></th>\n",
       "      <th></th>\n",
       "      <th></th>\n",
       "    </tr>\n",
       "  </thead>\n",
       "  <tbody>\n",
       "    <tr>\n",
       "      <th>RST^J20</th>\n",
       "      <td>4295533401</td>\n",
       "      <td>Rosetta Stone Inc</td>\n",
       "      <td>2019-12-31</td>\n",
       "      <td>36.037039</td>\n",
       "      <td>36.037039</td>\n",
       "      <td>100.0</td>\n",
       "      <td>3.016334</td>\n",
       "      <td>54.794120</td>\n",
       "      <td>29.791320</td>\n",
       "      <td>6.170213</td>\n",
       "      <td>...</td>\n",
       "      <td>69.612069</td>\n",
       "      <td>35.456731</td>\n",
       "      <td>35.481185</td>\n",
       "      <td>30.685981</td>\n",
       "      <td>0.000000</td>\n",
       "      <td>NaN</td>\n",
       "      <td>None</td>\n",
       "      <td>2020-09-25T00:00:00</td>\n",
       "      <td>5720102012</td>\n",
       "      <td>Application Software</td>\n",
       "    </tr>\n",
       "    <tr>\n",
       "      <th>PWF.TO^B20</th>\n",
       "      <td>4295613014</td>\n",
       "      <td>Power Financial Corp</td>\n",
       "      <td>2018-12-31</td>\n",
       "      <td>50.090897</td>\n",
       "      <td>50.090897</td>\n",
       "      <td>100.0</td>\n",
       "      <td>67.115917</td>\n",
       "      <td>51.089269</td>\n",
       "      <td>43.251122</td>\n",
       "      <td>80.534351</td>\n",
       "      <td>...</td>\n",
       "      <td>69.138756</td>\n",
       "      <td>35.750000</td>\n",
       "      <td>38.235294</td>\n",
       "      <td>25.232198</td>\n",
       "      <td>95.358650</td>\n",
       "      <td>100.0</td>\n",
       "      <td>PricewaterhouseCoopers</td>\n",
       "      <td>2020-06-04T00:00:00</td>\n",
       "      <td>5530101010</td>\n",
       "      <td>Multiline Insurance &amp; Brokers - NEC</td>\n",
       "    </tr>\n",
       "    <tr>\n",
       "      <th>KE.O</th>\n",
       "      <td>4295641240</td>\n",
       "      <td>Kimball Electronics Inc</td>\n",
       "      <td>2019-06-30</td>\n",
       "      <td>39.529616</td>\n",
       "      <td>39.529616</td>\n",
       "      <td>100.0</td>\n",
       "      <td>33.089184</td>\n",
       "      <td>51.684797</td>\n",
       "      <td>27.202088</td>\n",
       "      <td>44.402985</td>\n",
       "      <td>...</td>\n",
       "      <td>55.625000</td>\n",
       "      <td>94.520548</td>\n",
       "      <td>27.855478</td>\n",
       "      <td>25.824176</td>\n",
       "      <td>26.002004</td>\n",
       "      <td>100.0</td>\n",
       "      <td>None</td>\n",
       "      <td>2020-07-03T00:00:00</td>\n",
       "      <td>5710101010</td>\n",
       "      <td>Semiconductors - NEC</td>\n",
       "    </tr>\n",
       "    <tr>\n",
       "      <th>PATA.BA</th>\n",
       "      <td>4295856018</td>\n",
       "      <td>Importadora y Exportadora de la Patagonia SA</td>\n",
       "      <td>2019-06-30</td>\n",
       "      <td>7.085719</td>\n",
       "      <td>7.085719</td>\n",
       "      <td>100.0</td>\n",
       "      <td>4.443027</td>\n",
       "      <td>7.218541</td>\n",
       "      <td>8.988095</td>\n",
       "      <td>0.000000</td>\n",
       "      <td>...</td>\n",
       "      <td>9.426230</td>\n",
       "      <td>0.000000</td>\n",
       "      <td>6.250000</td>\n",
       "      <td>24.107143</td>\n",
       "      <td>0.000000</td>\n",
       "      <td>NaN</td>\n",
       "      <td>None</td>\n",
       "      <td>2020-10-09T00:00:00</td>\n",
       "      <td>5430102012</td>\n",
       "      <td>Supermarkets &amp; Convenience Stores</td>\n",
       "    </tr>\n",
       "    <tr>\n",
       "      <th>COME.BA</th>\n",
       "      <td>4295856019</td>\n",
       "      <td>Sociedad Comercial del Plata SA</td>\n",
       "      <td>2019-12-31</td>\n",
       "      <td>14.168024</td>\n",
       "      <td>14.168024</td>\n",
       "      <td>100.0</td>\n",
       "      <td>0.000000</td>\n",
       "      <td>15.932934</td>\n",
       "      <td>29.821429</td>\n",
       "      <td>0.000000</td>\n",
       "      <td>...</td>\n",
       "      <td>2.654867</td>\n",
       "      <td>70.283019</td>\n",
       "      <td>34.821429</td>\n",
       "      <td>33.035714</td>\n",
       "      <td>0.000000</td>\n",
       "      <td>NaN</td>\n",
       "      <td>None</td>\n",
       "      <td>2020-09-11T00:00:00</td>\n",
       "      <td>5320302010</td>\n",
       "      <td>Construction Supplies &amp; Fixtures - NEC</td>\n",
       "    </tr>\n",
       "  </tbody>\n",
       "</table>\n",
       "<p>5 rows × 24 columns</p>\n",
       "</div>"
      ],
      "text/plain": [
       "            Instrument                                   Common Name  \\\n",
       "PrimaryRIC                                                             \n",
       "RST^J20     4295533401                             Rosetta Stone Inc   \n",
       "PWF.TO^B20  4295613014                          Power Financial Corp   \n",
       "KE.O        4295641240                       Kimball Electronics Inc   \n",
       "PATA.BA     4295856018  Importadora y Exportadora de la Patagonia SA   \n",
       "COME.BA     4295856019               Sociedad Comercial del Plata SA   \n",
       "\n",
       "           Period End Date  ESG Combined Score  ESG Score  \\\n",
       "PrimaryRIC                                                  \n",
       "RST^J20         2019-12-31           36.037039  36.037039   \n",
       "PWF.TO^B20      2018-12-31           50.090897  50.090897   \n",
       "KE.O            2019-06-30           39.529616  39.529616   \n",
       "PATA.BA         2019-06-30            7.085719   7.085719   \n",
       "COME.BA         2019-12-31           14.168024  14.168024   \n",
       "\n",
       "            ESG Controversies Score  Environment Pillar Score  \\\n",
       "PrimaryRIC                                                      \n",
       "RST^J20                       100.0                  3.016334   \n",
       "PWF.TO^B20                    100.0                 67.115917   \n",
       "KE.O                          100.0                 33.089184   \n",
       "PATA.BA                       100.0                  4.443027   \n",
       "COME.BA                       100.0                  0.000000   \n",
       "\n",
       "            Social Pillar Score  Governance Pillar Score  Resource Use Score  \\\n",
       "PrimaryRIC                                                                     \n",
       "RST^J20               54.794120                29.791320            6.170213   \n",
       "PWF.TO^B20            51.089269                43.251122           80.534351   \n",
       "KE.O                  51.684797                27.202088           44.402985   \n",
       "PATA.BA                7.218541                 8.988095            0.000000   \n",
       "COME.BA               15.932934                29.821429            0.000000   \n",
       "\n",
       "            ...  Community Score  Product Responsibility Score  \\\n",
       "PrimaryRIC  ...                                                  \n",
       "RST^J20     ...        69.612069                     35.456731   \n",
       "PWF.TO^B20  ...        69.138756                     35.750000   \n",
       "KE.O        ...        55.625000                     94.520548   \n",
       "PATA.BA     ...         9.426230                      0.000000   \n",
       "COME.BA     ...         2.654867                     70.283019   \n",
       "\n",
       "            Management Score  Shareholders Score  CSR Strategy Score  \\\n",
       "PrimaryRIC                                                             \n",
       "RST^J20            35.481185           30.685981            0.000000   \n",
       "PWF.TO^B20         38.235294           25.232198           95.358650   \n",
       "KE.O               27.855478           25.824176           26.002004   \n",
       "PATA.BA             6.250000           24.107143            0.000000   \n",
       "COME.BA            34.821429           33.035714            0.000000   \n",
       "\n",
       "            ESG Reporting Scope  ESG Report Auditor Name  \\\n",
       "PrimaryRIC                                                 \n",
       "RST^J20                     NaN                     None   \n",
       "PWF.TO^B20                100.0   PricewaterhouseCoopers   \n",
       "KE.O                      100.0                     None   \n",
       "PATA.BA                     NaN                     None   \n",
       "COME.BA                     NaN                     None   \n",
       "\n",
       "            ESG Period Last Update Date  TRBCHierarchicalCode  \\\n",
       "PrimaryRIC                                                      \n",
       "RST^J20             2020-09-25T00:00:00            5720102012   \n",
       "PWF.TO^B20          2020-06-04T00:00:00            5530101010   \n",
       "KE.O                2020-07-03T00:00:00            5710101010   \n",
       "PATA.BA             2020-10-09T00:00:00            5430102012   \n",
       "COME.BA             2020-09-11T00:00:00            5320302010   \n",
       "\n",
       "                       TRBCHierarchicalCodeMeaning  \n",
       "PrimaryRIC                                          \n",
       "RST^J20                       Application Software  \n",
       "PWF.TO^B20     Multiline Insurance & Brokers - NEC  \n",
       "KE.O                          Semiconductors - NEC  \n",
       "PATA.BA          Supermarkets & Convenience Stores  \n",
       "COME.BA     Construction Supplies & Fixtures - NEC  \n",
       "\n",
       "[5 rows x 24 columns]"
      ]
     },
     "execution_count": 9,
     "metadata": {},
     "output_type": "execute_result"
    }
   ],
   "source": [
    "masterDF = masterDF.join(valuesDF)\n",
    "masterDF.reset_index(inplace=True)\n",
    "masterDF.set_index('PrimaryRIC', inplace=True)\n",
    "masterDF.head()"
   ]
  },
  {
   "cell_type": "code",
   "execution_count": 10,
   "metadata": {},
   "outputs": [],
   "source": [
    "# save the dataframe for future load\n",
    "masterDF.to_pickle('./master_dataframe.pkl')"
   ]
  },
  {
   "cell_type": "code",
   "execution_count": 11,
   "metadata": {},
   "outputs": [],
   "source": [
    "# optionally save as CSV\n",
    "masterDF.to_csv('./master_dataframe.csv')"
   ]
  },
  {
   "cell_type": "markdown",
   "metadata": {},
   "source": [
    "## Load saved data and process"
   ]
  },
  {
   "cell_type": "code",
   "execution_count": 2,
   "metadata": {
    "scrolled": false
   },
   "outputs": [
    {
     "data": {
      "text/html": [
       "<div>\n",
       "<style scoped>\n",
       "    .dataframe tbody tr th:only-of-type {\n",
       "        vertical-align: middle;\n",
       "    }\n",
       "\n",
       "    .dataframe tbody tr th {\n",
       "        vertical-align: top;\n",
       "    }\n",
       "\n",
       "    .dataframe thead th {\n",
       "        text-align: right;\n",
       "    }\n",
       "</style>\n",
       "<table border=\"1\" class=\"dataframe\">\n",
       "  <thead>\n",
       "    <tr style=\"text-align: right;\">\n",
       "      <th></th>\n",
       "      <th>Instrument</th>\n",
       "      <th>Common Name</th>\n",
       "      <th>Period End Date</th>\n",
       "      <th>ESG Combined Score</th>\n",
       "      <th>ESG Score</th>\n",
       "      <th>ESG Controversies Score</th>\n",
       "      <th>Environment Pillar Score</th>\n",
       "      <th>Social Pillar Score</th>\n",
       "      <th>Governance Pillar Score</th>\n",
       "      <th>Resource Use Score</th>\n",
       "      <th>...</th>\n",
       "      <th>Community Score</th>\n",
       "      <th>Product Responsibility Score</th>\n",
       "      <th>Management Score</th>\n",
       "      <th>Shareholders Score</th>\n",
       "      <th>CSR Strategy Score</th>\n",
       "      <th>ESG Reporting Scope</th>\n",
       "      <th>ESG Report Auditor Name</th>\n",
       "      <th>ESG Period Last Update Date</th>\n",
       "      <th>TRBCHierarchicalCode</th>\n",
       "      <th>TRBCHierarchicalCodeMeaning</th>\n",
       "    </tr>\n",
       "    <tr>\n",
       "      <th>PrimaryRIC</th>\n",
       "      <th></th>\n",
       "      <th></th>\n",
       "      <th></th>\n",
       "      <th></th>\n",
       "      <th></th>\n",
       "      <th></th>\n",
       "      <th></th>\n",
       "      <th></th>\n",
       "      <th></th>\n",
       "      <th></th>\n",
       "      <th></th>\n",
       "      <th></th>\n",
       "      <th></th>\n",
       "      <th></th>\n",
       "      <th></th>\n",
       "      <th></th>\n",
       "      <th></th>\n",
       "      <th></th>\n",
       "      <th></th>\n",
       "      <th></th>\n",
       "      <th></th>\n",
       "    </tr>\n",
       "  </thead>\n",
       "  <tbody>\n",
       "    <tr>\n",
       "      <th>RST^J20</th>\n",
       "      <td>4295533401</td>\n",
       "      <td>Rosetta Stone Inc</td>\n",
       "      <td>2019-12-31</td>\n",
       "      <td>36.037039</td>\n",
       "      <td>36.037039</td>\n",
       "      <td>100.0</td>\n",
       "      <td>3.016334</td>\n",
       "      <td>54.794120</td>\n",
       "      <td>29.791320</td>\n",
       "      <td>6.170213</td>\n",
       "      <td>...</td>\n",
       "      <td>69.612069</td>\n",
       "      <td>35.456731</td>\n",
       "      <td>35.481185</td>\n",
       "      <td>30.685981</td>\n",
       "      <td>0.000000</td>\n",
       "      <td>NaN</td>\n",
       "      <td>None</td>\n",
       "      <td>2020-09-25T00:00:00</td>\n",
       "      <td>5720102012</td>\n",
       "      <td>Application Software</td>\n",
       "    </tr>\n",
       "    <tr>\n",
       "      <th>PWF.TO^B20</th>\n",
       "      <td>4295613014</td>\n",
       "      <td>Power Financial Corp</td>\n",
       "      <td>2018-12-31</td>\n",
       "      <td>50.090897</td>\n",
       "      <td>50.090897</td>\n",
       "      <td>100.0</td>\n",
       "      <td>67.115917</td>\n",
       "      <td>51.089269</td>\n",
       "      <td>43.251122</td>\n",
       "      <td>80.534351</td>\n",
       "      <td>...</td>\n",
       "      <td>69.138756</td>\n",
       "      <td>35.750000</td>\n",
       "      <td>38.235294</td>\n",
       "      <td>25.232198</td>\n",
       "      <td>95.358650</td>\n",
       "      <td>100.0</td>\n",
       "      <td>PricewaterhouseCoopers</td>\n",
       "      <td>2020-06-04T00:00:00</td>\n",
       "      <td>5530101010</td>\n",
       "      <td>Multiline Insurance &amp; Brokers - NEC</td>\n",
       "    </tr>\n",
       "    <tr>\n",
       "      <th>KE.O</th>\n",
       "      <td>4295641240</td>\n",
       "      <td>Kimball Electronics Inc</td>\n",
       "      <td>2019-06-30</td>\n",
       "      <td>39.529616</td>\n",
       "      <td>39.529616</td>\n",
       "      <td>100.0</td>\n",
       "      <td>33.089184</td>\n",
       "      <td>51.684797</td>\n",
       "      <td>27.202088</td>\n",
       "      <td>44.402985</td>\n",
       "      <td>...</td>\n",
       "      <td>55.625000</td>\n",
       "      <td>94.520548</td>\n",
       "      <td>27.855478</td>\n",
       "      <td>25.824176</td>\n",
       "      <td>26.002004</td>\n",
       "      <td>100.0</td>\n",
       "      <td>None</td>\n",
       "      <td>2020-07-03T00:00:00</td>\n",
       "      <td>5710101010</td>\n",
       "      <td>Semiconductors - NEC</td>\n",
       "    </tr>\n",
       "    <tr>\n",
       "      <th>PATA.BA</th>\n",
       "      <td>4295856018</td>\n",
       "      <td>Importadora y Exportadora de la Patagonia SA</td>\n",
       "      <td>2019-06-30</td>\n",
       "      <td>7.085719</td>\n",
       "      <td>7.085719</td>\n",
       "      <td>100.0</td>\n",
       "      <td>4.443027</td>\n",
       "      <td>7.218541</td>\n",
       "      <td>8.988095</td>\n",
       "      <td>0.000000</td>\n",
       "      <td>...</td>\n",
       "      <td>9.426230</td>\n",
       "      <td>0.000000</td>\n",
       "      <td>6.250000</td>\n",
       "      <td>24.107143</td>\n",
       "      <td>0.000000</td>\n",
       "      <td>NaN</td>\n",
       "      <td>None</td>\n",
       "      <td>2020-10-09T00:00:00</td>\n",
       "      <td>5430102012</td>\n",
       "      <td>Supermarkets &amp; Convenience Stores</td>\n",
       "    </tr>\n",
       "    <tr>\n",
       "      <th>COME.BA</th>\n",
       "      <td>4295856019</td>\n",
       "      <td>Sociedad Comercial del Plata SA</td>\n",
       "      <td>2019-12-31</td>\n",
       "      <td>14.168024</td>\n",
       "      <td>14.168024</td>\n",
       "      <td>100.0</td>\n",
       "      <td>0.000000</td>\n",
       "      <td>15.932934</td>\n",
       "      <td>29.821429</td>\n",
       "      <td>0.000000</td>\n",
       "      <td>...</td>\n",
       "      <td>2.654867</td>\n",
       "      <td>70.283019</td>\n",
       "      <td>34.821429</td>\n",
       "      <td>33.035714</td>\n",
       "      <td>0.000000</td>\n",
       "      <td>NaN</td>\n",
       "      <td>None</td>\n",
       "      <td>2020-09-11T00:00:00</td>\n",
       "      <td>5320302010</td>\n",
       "      <td>Construction Supplies &amp; Fixtures - NEC</td>\n",
       "    </tr>\n",
       "  </tbody>\n",
       "</table>\n",
       "<p>5 rows × 24 columns</p>\n",
       "</div>"
      ],
      "text/plain": [
       "            Instrument                                   Common Name  \\\n",
       "PrimaryRIC                                                             \n",
       "RST^J20     4295533401                             Rosetta Stone Inc   \n",
       "PWF.TO^B20  4295613014                          Power Financial Corp   \n",
       "KE.O        4295641240                       Kimball Electronics Inc   \n",
       "PATA.BA     4295856018  Importadora y Exportadora de la Patagonia SA   \n",
       "COME.BA     4295856019               Sociedad Comercial del Plata SA   \n",
       "\n",
       "           Period End Date  ESG Combined Score  ESG Score  \\\n",
       "PrimaryRIC                                                  \n",
       "RST^J20         2019-12-31           36.037039  36.037039   \n",
       "PWF.TO^B20      2018-12-31           50.090897  50.090897   \n",
       "KE.O            2019-06-30           39.529616  39.529616   \n",
       "PATA.BA         2019-06-30            7.085719   7.085719   \n",
       "COME.BA         2019-12-31           14.168024  14.168024   \n",
       "\n",
       "            ESG Controversies Score  Environment Pillar Score  \\\n",
       "PrimaryRIC                                                      \n",
       "RST^J20                       100.0                  3.016334   \n",
       "PWF.TO^B20                    100.0                 67.115917   \n",
       "KE.O                          100.0                 33.089184   \n",
       "PATA.BA                       100.0                  4.443027   \n",
       "COME.BA                       100.0                  0.000000   \n",
       "\n",
       "            Social Pillar Score  Governance Pillar Score  Resource Use Score  \\\n",
       "PrimaryRIC                                                                     \n",
       "RST^J20               54.794120                29.791320            6.170213   \n",
       "PWF.TO^B20            51.089269                43.251122           80.534351   \n",
       "KE.O                  51.684797                27.202088           44.402985   \n",
       "PATA.BA                7.218541                 8.988095            0.000000   \n",
       "COME.BA               15.932934                29.821429            0.000000   \n",
       "\n",
       "            ...  Community Score  Product Responsibility Score  \\\n",
       "PrimaryRIC  ...                                                  \n",
       "RST^J20     ...        69.612069                     35.456731   \n",
       "PWF.TO^B20  ...        69.138756                     35.750000   \n",
       "KE.O        ...        55.625000                     94.520548   \n",
       "PATA.BA     ...         9.426230                      0.000000   \n",
       "COME.BA     ...         2.654867                     70.283019   \n",
       "\n",
       "            Management Score  Shareholders Score  CSR Strategy Score  \\\n",
       "PrimaryRIC                                                             \n",
       "RST^J20            35.481185           30.685981            0.000000   \n",
       "PWF.TO^B20         38.235294           25.232198           95.358650   \n",
       "KE.O               27.855478           25.824176           26.002004   \n",
       "PATA.BA             6.250000           24.107143            0.000000   \n",
       "COME.BA            34.821429           33.035714            0.000000   \n",
       "\n",
       "            ESG Reporting Scope  ESG Report Auditor Name  \\\n",
       "PrimaryRIC                                                 \n",
       "RST^J20                     NaN                     None   \n",
       "PWF.TO^B20                100.0   PricewaterhouseCoopers   \n",
       "KE.O                      100.0                     None   \n",
       "PATA.BA                     NaN                     None   \n",
       "COME.BA                     NaN                     None   \n",
       "\n",
       "            ESG Period Last Update Date  TRBCHierarchicalCode  \\\n",
       "PrimaryRIC                                                      \n",
       "RST^J20             2020-09-25T00:00:00            5720102012   \n",
       "PWF.TO^B20          2020-06-04T00:00:00            5530101010   \n",
       "KE.O                2020-07-03T00:00:00            5710101010   \n",
       "PATA.BA             2020-10-09T00:00:00            5430102012   \n",
       "COME.BA             2020-09-11T00:00:00            5320302010   \n",
       "\n",
       "                       TRBCHierarchicalCodeMeaning  \n",
       "PrimaryRIC                                          \n",
       "RST^J20                       Application Software  \n",
       "PWF.TO^B20     Multiline Insurance & Brokers - NEC  \n",
       "KE.O                          Semiconductors - NEC  \n",
       "PATA.BA          Supermarkets & Convenience Stores  \n",
       "COME.BA     Construction Supplies & Fixtures - NEC  \n",
       "\n",
       "[5 rows x 24 columns]"
      ]
     },
     "execution_count": 2,
     "metadata": {},
     "output_type": "execute_result"
    }
   ],
   "source": [
    "masterDF = pd.read_pickle('./master_dataframe.pkl')\n",
    "masterDF.head()"
   ]
  },
  {
   "cell_type": "code",
   "execution_count": 3,
   "metadata": {},
   "outputs": [
    {
     "name": "stdout",
     "output_type": "stream",
     "text": [
      "Number of items without any TRBC code: 4\n"
     ]
    }
   ],
   "source": [
    "# count ones which don't have TRBC code\n",
    "print('Number of items without any TRBC code: %d' % len(masterDF[masterDF['TRBCHierarchicalCode'].isnull()]))"
   ]
  },
  {
   "cell_type": "markdown",
   "metadata": {},
   "source": [
    "## Plot the quantile chart"
   ]
  },
  {
   "cell_type": "code",
   "execution_count": 4,
   "metadata": {},
   "outputs": [],
   "source": [
    "def plotQuantilesV2(instrument):\n",
    "    _tSer = masterDF.loc[instrument]\n",
    "    _trbcCode = _tSer['TRBCHierarchicalCode']\n",
    "    _subdf = masterDF[masterDF['TRBCHierarchicalCode'] == _trbcCode]\n",
    "    _metrics = ['ESG Score', 'Environment Pillar Score', 'Social Pillar Score', 'Governance Pillar Score']\n",
    "    _binSz = 5\n",
    "    _bClrs = ['red','yellow','green']\n",
    "\n",
    "    _traces = {}\n",
    "    _trNames = []\n",
    "    for _itemName in _metrics:\n",
    "        _tSVal = _tSer[_itemName]\n",
    "        _trNames.append(_itemName + ' (%d)' % _tSVal) \n",
    "        _mClrs = ['grey']*(math.ceil(100/_binSz))\n",
    "        _mClrs[int(_tSVal/_binSz)] = _bClrs[int(_tSVal/33)]\n",
    "        _traces[_itemName] = go.Histogram(x=_subdf[_itemName],xbins=dict(start=0,end=100,size=_binSz),marker={'color':_mClrs})\n",
    "\n",
    "    fig = go.Figure()\n",
    "    fig = make_subplots(rows=2, cols=2, subplot_titles=(_trNames))\n",
    "    fig.append_trace(_traces[_metrics[0]], 1, 1)\n",
    "    fig.append_trace(_traces[_metrics[1]], 1, 2)\n",
    "    fig.append_trace(_traces[_metrics[2]], 2, 1)\n",
    "    fig.append_trace(_traces[_metrics[3]], 2, 2)\n",
    "\n",
    "    fig.update_layout(\n",
    "        title_text= _tSer['Common Name'] + '<br>' + _tSer['TRBCHierarchicalCodeMeaning'],\n",
    "        bargap=0.2, showlegend=False\n",
    "    )\n",
    "\n",
    "    fig.show()"
   ]
  },
  {
   "cell_type": "code",
   "execution_count": 5,
   "metadata": {
    "scrolled": false
   },
   "outputs": [
    {
     "data": {
      "application/vnd.plotly.v1+json": {
       "config": {
        "plotlyServerURL": "https://plot.ly"
       },
       "data": [
        {
         "marker": {
          "color": [
           "grey",
           "grey",
           "grey",
           "grey",
           "grey",
           "grey",
           "grey",
           "grey",
           "grey",
           "grey",
           "grey",
           "grey",
           "grey",
           "green",
           "grey",
           "grey",
           "grey",
           "grey",
           "grey",
           "grey"
          ]
         },
         "type": "histogram",
         "x": [
          43.3304162901512,
          25.3031619595171,
          19.7219505942125,
          71.585595424591,
          52.1594854668033,
          30.1891768773931,
          17.5024395536207,
          31.1354801570409,
          46.759849219238,
          37.6748259979134,
          37.9936806958257,
          23.4719882989096,
          41.4302820137213,
          6.11377604607371,
          70.7337986160035,
          59.0723143078593,
          63.3497563281576,
          76.1433830194482,
          27.8763858755095,
          30.4050943774255,
          42.1089401454874,
          15.6669071669071,
          90.7615193155257,
          75.5441450572641,
          31.0340106304952,
          59.7947735682309,
          75.7024692074341,
          86.9036594986551,
          68.8857579479688,
          40.3774250604219,
          81.590132609478,
          26.0138557360712,
          61.9697677810231,
          46.5094069435016,
          67.844515933056,
          84.1901529240508,
          65.4567498909092,
          8.49271141281981,
          64.5562135791391,
          16.6469729785671,
          35.9427828830699,
          82.5358393967516,
          51.6272540567615,
          34.7100179564123,
          50.8041007765702,
          32.0260879349539,
          54.8344238002998,
          42.8847502498954,
          65.6934530542965,
          20.7671789362814,
          24.4838053804496,
          45.6267947931568,
          44.3081919922679,
          27.0875472042358,
          50.3045299315341,
          56.8402379718507,
          45.8045796397401,
          43.6340466895104,
          70.3323882519181,
          48.7355527894547,
          42.4257813432358,
          36.1891665156979,
          40.8384585457786,
          80.6222467182971,
          49.2703037513606,
          66.1806058706313,
          29.6980135016956,
          52.4168972918121,
          51.9868666130425,
          58.1439774072663,
          33.0385472496655,
          34.7979822188816,
          72.2205041675003,
          57.5338446100481,
          74.6933429121914,
          44.868368503059,
          41.7523165271037,
          69.9498765131913,
          49.7732669918083,
          59.9068922730899,
          61.5613657434083,
          51.1837617925132,
          40.5363847104938,
          53.5214799028118,
          22.9754460068211,
          58.4742407049511,
          40.3929822676332,
          72.7476644914275,
          35.4264173354347,
          36.2769158659111,
          20.1846794003009,
          42.9630110302125,
          37.2523836016415,
          36.0904262278807,
          44.3214299440254,
          51.7337048079084,
          53.7493261746021,
          48.7377652079233,
          63.9908689328282,
          44.808510118796,
          22.2356128507417,
          32.7234129950893,
          57.8625235185909,
          24.8235468823884,
          12.5789671158821,
          37.8893635949193,
          50.3518238393376,
          43.1690171255036,
          28.3492925942066,
          51.4559340681281,
          51.0838843909712,
          52.2596246320611,
          33.5027893969344,
          18.4152576502513,
          48.7983830235895,
          43.1123480579774,
          50.1125830315477,
          29.1588447121533,
          20.2399882580586,
          25.5120338096567,
          28.0111879795338,
          42.1245280769848,
          54.0536382719525,
          20.4530242273461,
          41.9728908710653,
          71.9890759619933,
          22.5647890342431,
          33.0145347454999,
          48.7323897815172,
          52.6083668378396,
          16.9354625214396,
          27.4100573323311,
          42.7073776657701,
          55.9555851035614,
          19.7481930677878,
          46.0281191140826,
          22.0508118370121,
          18.7487860611253,
          32.3363200639761,
          21.7053983266051,
          47.2728705940733,
          52.8828927409159,
          56.681292595714,
          47.7060982849855,
          39.2604538937377,
          56.3906082617753,
          43.6108443790054,
          17.4778931313645,
          68.2445848229278,
          66.9713693981927,
          34.1803963809437,
          23.4891634714899,
          45.4033796958293,
          31.7897287280466,
          40.9216238853376,
          41.9003329243355,
          26.2763433822626,
          35.4563792888407,
          83.3376131771155,
          21.5393941017212,
          43.1602794090051,
          20.2639121914341,
          42.1440000750624,
          25.9608899710943,
          39.1032152984529,
          21.3310091908164,
          35.7577428526622,
          25.0544257289559,
          18.1217683123542,
          10.6105408973616,
          62.211500339072,
          28.2678253785493
         ],
         "xaxis": "x",
         "xbins": {
          "end": 100,
          "size": 5,
          "start": 0
         },
         "yaxis": "y"
        },
        {
         "marker": {
          "color": [
           "grey",
           "grey",
           "grey",
           "grey",
           "grey",
           "grey",
           "grey",
           "grey",
           "grey",
           "grey",
           "grey",
           "grey",
           "grey",
           "grey",
           "grey",
           "green",
           "grey",
           "grey",
           "grey",
           "grey"
          ]
         },
         "type": "histogram",
         "x": [
          12.1693121693121,
          0,
          0,
          40.4556200300881,
          2.05673758865248,
          0,
          0,
          54.8828712658499,
          54.1349666881581,
          17.1948707019039,
          29.9881796690307,
          0,
          0,
          24.4949494949494,
          72.4607779926928,
          76.9310122501611,
          74.8678272082526,
          68.4504620674832,
          34.7206103589082,
          26.8869546529121,
          38.8147431764452,
          0,
          77.9862454330538,
          72.2630560928432,
          6.09103078982596,
          14.5074224021592,
          53.4891467870191,
          78.3709434773263,
          47.4156458199011,
          29.0485829959513,
          72.5194396247027,
          24.4949494949494,
          20.9209112400601,
          70.2342574682999,
          75.2955082742315,
          69.3079733505264,
          64.5647969052223,
          2.29419703103913,
          65.7575757575756,
          0,
          24.6544391281233,
          67.0191274446592,
          38.7773515203182,
          44.6722544594884,
          11.0526315789473,
          21.7611336032388,
          15.8307092517618,
          43.4407908875993,
          73.7954008166773,
          28.8244143563292,
          0,
          0,
          65.0683521271755,
          10.1851851851851,
          34.5552369436404,
          27.2566086395873,
          37.1081405522968,
          16.0722610722611,
          82.1079188549067,
          9.78401031592519,
          28.8168923275305,
          27.4269005847952,
          19.0570588429642,
          68.7572135877761,
          38.9177982621336,
          75.1730066623682,
          0,
          24.9720610358907,
          27.4151037226484,
          50.1687083601976,
          0,
          0,
          78.5106382978722,
          18.5815602836879,
          67.8698876429054,
          15.9259259259259,
          0,
          79.0995056952502,
          49.8774983881366,
          19.2934782608695,
          69.0436277670319,
          23.7405974640016,
          0,
          32.9722759509993,
          11.9908647671735,
          44.9957016978293,
          0,
          51.6191889241761,
          0,
          0,
          6.19307832422585,
          69.3724478830861,
          0,
          0,
          6.73758865248226,
          30.0010745755426,
          10.2385557704706,
          13.0163335482484,
          53.6848235697156,
          62.3146873018995,
          0,
          4.32624113475176,
          0,
          16.7836257309941,
          0,
          0,
          33.1764239658976,
          0,
          0,
          27.5177304964538,
          9.00709219858155,
          53.6814958091553,
          33.5579196217493,
          0,
          16.5629440181869,
          52.4758220502901,
          16.0530840318074,
          4.89898989898989,
          0,
          0,
          0,
          30.7513336269759,
          72.7014829142488,
          0,
          14.5379325166559,
          77.6445304104877,
          3.92156862745097,
          12.0071684587813,
          12.0062325381474,
          26.5516870836019,
          0,
          0,
          5.05050505050504,
          36.2851923490221,
          0,
          35.7436062755211,
          0,
          0,
          27.3103374167203,
          0,
          34.3337631635503,
          55.9950569525037,
          22.5714592735869,
          22.1502256608639,
          16.4230019493177,
          11.9997850848914,
          0,
          9.87654320987653,
          12.1985815602836,
          44.5325596389425,
          0,
          0,
          2.27272727272727,
          2.05673758865248,
          9.3525179856115,
          2.27272727272727,
          0,
          0,
          76.0606060606059,
          0,
          0,
          0,
          0,
          0,
          29.2048140984311,
          4.44444444444444,
          0,
          0,
          0,
          0,
          64.8570814528261,
          11.067053513862
         ],
         "xaxis": "x2",
         "xbins": {
          "end": 100,
          "size": 5,
          "start": 0
         },
         "yaxis": "y2"
        },
        {
         "marker": {
          "color": [
           "grey",
           "grey",
           "grey",
           "grey",
           "grey",
           "grey",
           "grey",
           "grey",
           "grey",
           "grey",
           "grey",
           "grey",
           "grey",
           "grey",
           "grey",
           "grey",
           "grey",
           "grey",
           "grey",
           "green"
          ]
         },
         "type": "histogram",
         "x": [
          44.6553868129975,
          25.9276907820493,
          33.9871931092127,
          63.4151768777112,
          49.7123406348934,
          24.8550509337861,
          21.4465324719773,
          41.9918004765817,
          67.7700620024506,
          39.5459433040077,
          45.8336599204728,
          6.22566740823137,
          8.97455506117909,
          4.23595661846496,
          90.2447193785708,
          75.4787057785541,
          85.3666578007171,
          83.3491645692439,
          47.6183473089757,
          46.4636374313662,
          75.4578492713238,
          21.470189701897,
          93.248449938732,
          97.4950830304917,
          51.8402625943242,
          60.4935621494833,
          87.880063681465,
          91.2208039169468,
          78.9156220586976,
          39.9127178337952,
          92.4039033100313,
          27.0288033712671,
          62.1142030493484,
          72.1931369074814,
          72.2576740241938,
          94.1567866489293,
          63.7607329785876,
          6.43999453253144,
          84.4072584681252,
          28.7296247967827,
          32.0059944799034,
          84.8349349220468,
          59.3847730273875,
          47.6308612133139,
          45.3499342587701,
          44.0671084835926,
          41.0982777474029,
          48.0244125063971,
          86.2948904281647,
          25.2632732951142,
          18.8968219405209,
          39.0310958211539,
          48.1689383644036,
          30.7431978577432,
          63.2575078896467,
          65.7651775234859,
          25.736639425023,
          53.506163709017,
          49.6359559128572,
          34.342150244345,
          59.1356254167264,
          38.5659965716066,
          54.7582767402376,
          92.047529625628,
          53.7232926421004,
          65.7959668539951,
          15.0549853372433,
          75.0940803037078,
          66.9829106000582,
          66.3211573171932,
          31.7788461538461,
          28.1658633749217,
          78.5388992526771,
          54.9285460300187,
          86.1998679494434,
          55.3966475710161,
          31.0405257978951,
          97.8250093637341,
          74.2695005820044,
          70.4773113134742,
          55.6138200241842,
          67.94572888599,
          40.8973111149139,
          57.7164263711816,
          38.7001615895624,
          88.7262869484073,
          30.3885630498533,
          91.8194894616795,
          26.1058761872165,
          49.1613676137491,
          23.8685618528936,
          67.3552465568095,
          46.5719338613618,
          31.5285680670831,
          35.4489617959641,
          48.8818117130628,
          50.9960319158038,
          46.5661097800975,
          66.1686975480946,
          44.1568914956011,
          42.8418005613672,
          30.166520089246,
          62.1909069664567,
          37.9153762968629,
          11.4943388164922,
          29.5388572773166,
          71.718614264018,
          37.7438072216992,
          38.0232844185847,
          58.7158516316306,
          43.3375224608539,
          70.6887924576734,
          27.390221315088,
          29.0249266862169,
          56.4188146318876,
          61.2512945766219,
          52.1745426300146,
          34.4192799691965,
          29.7008075009968,
          45.1925113412611,
          44.2644183773215,
          63.0918722103694,
          86.173450463424,
          28.4501475998972,
          45.0268995465046,
          90.4324279436431,
          30.896871945259,
          22.2968577482021,
          62.8202225582044,
          30.2066933344741,
          35.0324702886247,
          33.9500266239832,
          33.0431783177889,
          66.5306668351062,
          43.3406647116324,
          59.8521448198368,
          11.1603170189099,
          38.0985663082436,
          37.1026073560204,
          25.4799738820277,
          53.4992063024389,
          58.6820877010579,
          58.1372999914434,
          45.8314097989864,
          73.8952718859847,
          71.2195708907332,
          39.0202254641909,
          38.1927098113363,
          76.4484153090596,
          73.7100739654283,
          54.2997026610763,
          30.3272332506203,
          55.5396487550269,
          33.2206674970253,
          66.3256049814747,
          70.9535399355193,
          47.6266899118678,
          43.914950049321,
          87.6505633981313,
          25.3775512139758,
          63.6778578762727,
          41.3853533841019,
          55.5535795913611,
          50.1555540263249,
          46.895957409539,
          39.6896383186705,
          46.4286291568979,
          19.8866796440489,
          28.9569607255925,
          6.99318687430478,
          63.0518014290995,
          38.3820163429451
         ],
         "xaxis": "x3",
         "xbins": {
          "end": 100,
          "size": 5,
          "start": 0
         },
         "yaxis": "y3"
        },
        {
         "marker": {
          "color": [
           "grey",
           "grey",
           "grey",
           "grey",
           "grey",
           "grey",
           "grey",
           "grey",
           "yellow",
           "grey",
           "grey",
           "grey",
           "grey",
           "grey",
           "grey",
           "grey",
           "grey",
           "grey",
           "grey",
           "grey"
          ]
         },
         "type": "histogram",
         "x": [
          51.5378006872852,
          32.3563218390804,
          13.3545769401151,
          87.9602262360883,
          69.2975734355044,
          43.8392050587172,
          19.3568691844553,
          14.6627647714604,
          26.4551863041289,
          42.2075726842461,
          33.6442377826403,
          45.3645833333333,
          81.8073537158603,
          2.21643518518518,
          53.4146341463414,
          39.5869789365149,
          40.9353365738694,
          72.2462807482692,
          8.82309618500515,
          17.6323464427751,
          14.3800830445077,
          28.4126984126984,
          92.4525778880617,
          57.6262751585332,
          20.6004098360655,
          72.7792443064182,
          71.8802040253653,
          85.7459332781913,
          66.6899641577061,
          44.1762422360248,
          74.9994824016563,
          25.5955449225446,
          74.1600499289206,
          17.2754065393016,
          61.8089987633346,
          80.0724277552404,
          67.1847947944477,
          12.1198830409356,
          47.1018496045367,
          11.2365591397849,
          42.719298245614,
          85.2110762800418,
          48.8021390374331,
          20.5950653120464,
          67.4261849261849,
          24.7369176509186,
          78.3638861548556,
          38.2921177821522,
          45.5227420980845,
          14.4783715012722,
          36.6399605123009,
          64.9944629014396,
          34.7556123535676,
          29.0103344138752,
          47.8312678861207,
          58.0299621576217,
          65.6942376619796,
          43.4015927189988,
          84.6216569185461,
          72.8153343898025,
          32.1194156513305,
          36.7711315246029,
          35.3863683447275,
          74.3433185983628,
          48.5415371866584,
          63.8141025641025,
          51.2166918049271,
          41.1227739083451,
          46.4451353802306,
          53.4950976433942,
          44.0348540348541,
          50.9483681112894,
          64.8926237161531,
          71.4629814629814,
          66.8319829331212,
          44.4850831899024,
          63.5020535020535,
          43.2014011372728,
          28.6480186480186,
          62.9886111919805,
          64.4381848389864,
          44.982794982795,
          52.3865023865024,
          56.0739260739261,
          12.7300930713547,
          36.4674292530004,
          61.1257934965669,
          76.0507936598993,
          54.0803640803641,
          36.0650460650461,
          21.2099276111685,
          14.0357549375585,
          40.4029304029304,
          50.8458208458208,
          63.2367632367632,
          60.7092907092907,
          69.1734495742512,
          61.3242313242313,
          65.2073301230604,
          40.1177730005049,
          11.1620795107033,
          43.4443334443334,
          71.4940614940615,
          15.9620034542314,
          17.2866427306769,
          56.4468864468864,
          37.1052631578947,
          60.7914307914308,
          28.5236985236985,
          52.3857994599477,
          70.3774003774004,
          35.9635020957666,
          38.7498506221911,
          14.8037310532452,
          51.9069763958424,
          24.6836574692286,
          58.5548564105678,
          31.9069819069819,
          18.1651681651681,
          16.2185660781166,
          22.4187070864101,
          27.4812734082397,
          20.8005577143853,
          19.7025197025197,
          47.5735375735375,
          54.4106643099131,
          20.9829059829059,
          48.5458553791887,
          47.6190476190476,
          79.7157007253424,
          6.43256681168427,
          30.0014343086632,
          62.3263888888889,
          52.7503825499817,
          5.35691151703588,
          37.2094508301404,
          38.0439814814814,
          7.71111111111111,
          29.7398119122257,
          24.9666888740839,
          45.7930359632487,
          46.9554922617617,
          65.6604584460296,
          56.9871751573879,
          16.2872628726287,
          56.9384707287933,
          60.6471306471306,
          1.92053930005737,
          77.9939762164408,
          67.9002389486261,
          27.1095571095571,
          24.6475746475746,
          49.6141215106732,
          39.4774287965777,
          28.5167052669152,
          28.7705752490763,
          15.7742257742257,
          38.8095238095238,
          81.8067859550825,
          24.6961325966851,
          38.4404484404484,
          8.15517815517815,
          43.2400621807683,
          12.9148629148629,
          35.3623188405797,
          10.5881590879647,
          37.2962469464801,
          37.020757020757,
          14.2279942279942,
          16.9086469086469,
          60.6942333996442,
          24.7186147186147
         ],
         "xaxis": "x4",
         "xbins": {
          "end": 100,
          "size": 5,
          "start": 0
         },
         "yaxis": "y4"
        }
       ],
       "layout": {
        "annotations": [
         {
          "font": {
           "size": 16
          },
          "showarrow": false,
          "text": "ESG Score (69)",
          "x": 0.225,
          "xanchor": "center",
          "xref": "paper",
          "y": 1,
          "yanchor": "bottom",
          "yref": "paper"
         },
         {
          "font": {
           "size": 16
          },
          "showarrow": false,
          "text": "Environment Pillar Score (79)",
          "x": 0.775,
          "xanchor": "center",
          "xref": "paper",
          "y": 1,
          "yanchor": "bottom",
          "yref": "paper"
         },
         {
          "font": {
           "size": 16
          },
          "showarrow": false,
          "text": "Social Pillar Score (97)",
          "x": 0.225,
          "xanchor": "center",
          "xref": "paper",
          "y": 0.375,
          "yanchor": "bottom",
          "yref": "paper"
         },
         {
          "font": {
           "size": 16
          },
          "showarrow": false,
          "text": "Governance Pillar Score (43)",
          "x": 0.775,
          "xanchor": "center",
          "xref": "paper",
          "y": 0.375,
          "yanchor": "bottom",
          "yref": "paper"
         }
        ],
        "bargap": 0.2,
        "showlegend": false,
        "template": {
         "data": {
          "bar": [
           {
            "error_x": {
             "color": "#2a3f5f"
            },
            "error_y": {
             "color": "#2a3f5f"
            },
            "marker": {
             "line": {
              "color": "#E5ECF6",
              "width": 0.5
             }
            },
            "type": "bar"
           }
          ],
          "barpolar": [
           {
            "marker": {
             "line": {
              "color": "#E5ECF6",
              "width": 0.5
             }
            },
            "type": "barpolar"
           }
          ],
          "carpet": [
           {
            "aaxis": {
             "endlinecolor": "#2a3f5f",
             "gridcolor": "white",
             "linecolor": "white",
             "minorgridcolor": "white",
             "startlinecolor": "#2a3f5f"
            },
            "baxis": {
             "endlinecolor": "#2a3f5f",
             "gridcolor": "white",
             "linecolor": "white",
             "minorgridcolor": "white",
             "startlinecolor": "#2a3f5f"
            },
            "type": "carpet"
           }
          ],
          "choropleth": [
           {
            "colorbar": {
             "outlinewidth": 0,
             "ticks": ""
            },
            "type": "choropleth"
           }
          ],
          "contour": [
           {
            "colorbar": {
             "outlinewidth": 0,
             "ticks": ""
            },
            "colorscale": [
             [
              0,
              "#0d0887"
             ],
             [
              0.1111111111111111,
              "#46039f"
             ],
             [
              0.2222222222222222,
              "#7201a8"
             ],
             [
              0.3333333333333333,
              "#9c179e"
             ],
             [
              0.4444444444444444,
              "#bd3786"
             ],
             [
              0.5555555555555556,
              "#d8576b"
             ],
             [
              0.6666666666666666,
              "#ed7953"
             ],
             [
              0.7777777777777778,
              "#fb9f3a"
             ],
             [
              0.8888888888888888,
              "#fdca26"
             ],
             [
              1,
              "#f0f921"
             ]
            ],
            "type": "contour"
           }
          ],
          "contourcarpet": [
           {
            "colorbar": {
             "outlinewidth": 0,
             "ticks": ""
            },
            "type": "contourcarpet"
           }
          ],
          "heatmap": [
           {
            "colorbar": {
             "outlinewidth": 0,
             "ticks": ""
            },
            "colorscale": [
             [
              0,
              "#0d0887"
             ],
             [
              0.1111111111111111,
              "#46039f"
             ],
             [
              0.2222222222222222,
              "#7201a8"
             ],
             [
              0.3333333333333333,
              "#9c179e"
             ],
             [
              0.4444444444444444,
              "#bd3786"
             ],
             [
              0.5555555555555556,
              "#d8576b"
             ],
             [
              0.6666666666666666,
              "#ed7953"
             ],
             [
              0.7777777777777778,
              "#fb9f3a"
             ],
             [
              0.8888888888888888,
              "#fdca26"
             ],
             [
              1,
              "#f0f921"
             ]
            ],
            "type": "heatmap"
           }
          ],
          "heatmapgl": [
           {
            "colorbar": {
             "outlinewidth": 0,
             "ticks": ""
            },
            "colorscale": [
             [
              0,
              "#0d0887"
             ],
             [
              0.1111111111111111,
              "#46039f"
             ],
             [
              0.2222222222222222,
              "#7201a8"
             ],
             [
              0.3333333333333333,
              "#9c179e"
             ],
             [
              0.4444444444444444,
              "#bd3786"
             ],
             [
              0.5555555555555556,
              "#d8576b"
             ],
             [
              0.6666666666666666,
              "#ed7953"
             ],
             [
              0.7777777777777778,
              "#fb9f3a"
             ],
             [
              0.8888888888888888,
              "#fdca26"
             ],
             [
              1,
              "#f0f921"
             ]
            ],
            "type": "heatmapgl"
           }
          ],
          "histogram": [
           {
            "marker": {
             "colorbar": {
              "outlinewidth": 0,
              "ticks": ""
             }
            },
            "type": "histogram"
           }
          ],
          "histogram2d": [
           {
            "colorbar": {
             "outlinewidth": 0,
             "ticks": ""
            },
            "colorscale": [
             [
              0,
              "#0d0887"
             ],
             [
              0.1111111111111111,
              "#46039f"
             ],
             [
              0.2222222222222222,
              "#7201a8"
             ],
             [
              0.3333333333333333,
              "#9c179e"
             ],
             [
              0.4444444444444444,
              "#bd3786"
             ],
             [
              0.5555555555555556,
              "#d8576b"
             ],
             [
              0.6666666666666666,
              "#ed7953"
             ],
             [
              0.7777777777777778,
              "#fb9f3a"
             ],
             [
              0.8888888888888888,
              "#fdca26"
             ],
             [
              1,
              "#f0f921"
             ]
            ],
            "type": "histogram2d"
           }
          ],
          "histogram2dcontour": [
           {
            "colorbar": {
             "outlinewidth": 0,
             "ticks": ""
            },
            "colorscale": [
             [
              0,
              "#0d0887"
             ],
             [
              0.1111111111111111,
              "#46039f"
             ],
             [
              0.2222222222222222,
              "#7201a8"
             ],
             [
              0.3333333333333333,
              "#9c179e"
             ],
             [
              0.4444444444444444,
              "#bd3786"
             ],
             [
              0.5555555555555556,
              "#d8576b"
             ],
             [
              0.6666666666666666,
              "#ed7953"
             ],
             [
              0.7777777777777778,
              "#fb9f3a"
             ],
             [
              0.8888888888888888,
              "#fdca26"
             ],
             [
              1,
              "#f0f921"
             ]
            ],
            "type": "histogram2dcontour"
           }
          ],
          "mesh3d": [
           {
            "colorbar": {
             "outlinewidth": 0,
             "ticks": ""
            },
            "type": "mesh3d"
           }
          ],
          "parcoords": [
           {
            "line": {
             "colorbar": {
              "outlinewidth": 0,
              "ticks": ""
             }
            },
            "type": "parcoords"
           }
          ],
          "pie": [
           {
            "automargin": true,
            "type": "pie"
           }
          ],
          "scatter": [
           {
            "marker": {
             "colorbar": {
              "outlinewidth": 0,
              "ticks": ""
             }
            },
            "type": "scatter"
           }
          ],
          "scatter3d": [
           {
            "line": {
             "colorbar": {
              "outlinewidth": 0,
              "ticks": ""
             }
            },
            "marker": {
             "colorbar": {
              "outlinewidth": 0,
              "ticks": ""
             }
            },
            "type": "scatter3d"
           }
          ],
          "scattercarpet": [
           {
            "marker": {
             "colorbar": {
              "outlinewidth": 0,
              "ticks": ""
             }
            },
            "type": "scattercarpet"
           }
          ],
          "scattergeo": [
           {
            "marker": {
             "colorbar": {
              "outlinewidth": 0,
              "ticks": ""
             }
            },
            "type": "scattergeo"
           }
          ],
          "scattergl": [
           {
            "marker": {
             "colorbar": {
              "outlinewidth": 0,
              "ticks": ""
             }
            },
            "type": "scattergl"
           }
          ],
          "scattermapbox": [
           {
            "marker": {
             "colorbar": {
              "outlinewidth": 0,
              "ticks": ""
             }
            },
            "type": "scattermapbox"
           }
          ],
          "scatterpolar": [
           {
            "marker": {
             "colorbar": {
              "outlinewidth": 0,
              "ticks": ""
             }
            },
            "type": "scatterpolar"
           }
          ],
          "scatterpolargl": [
           {
            "marker": {
             "colorbar": {
              "outlinewidth": 0,
              "ticks": ""
             }
            },
            "type": "scatterpolargl"
           }
          ],
          "scatterternary": [
           {
            "marker": {
             "colorbar": {
              "outlinewidth": 0,
              "ticks": ""
             }
            },
            "type": "scatterternary"
           }
          ],
          "surface": [
           {
            "colorbar": {
             "outlinewidth": 0,
             "ticks": ""
            },
            "colorscale": [
             [
              0,
              "#0d0887"
             ],
             [
              0.1111111111111111,
              "#46039f"
             ],
             [
              0.2222222222222222,
              "#7201a8"
             ],
             [
              0.3333333333333333,
              "#9c179e"
             ],
             [
              0.4444444444444444,
              "#bd3786"
             ],
             [
              0.5555555555555556,
              "#d8576b"
             ],
             [
              0.6666666666666666,
              "#ed7953"
             ],
             [
              0.7777777777777778,
              "#fb9f3a"
             ],
             [
              0.8888888888888888,
              "#fdca26"
             ],
             [
              1,
              "#f0f921"
             ]
            ],
            "type": "surface"
           }
          ],
          "table": [
           {
            "cells": {
             "fill": {
              "color": "#EBF0F8"
             },
             "line": {
              "color": "white"
             }
            },
            "header": {
             "fill": {
              "color": "#C8D4E3"
             },
             "line": {
              "color": "white"
             }
            },
            "type": "table"
           }
          ]
         },
         "layout": {
          "annotationdefaults": {
           "arrowcolor": "#2a3f5f",
           "arrowhead": 0,
           "arrowwidth": 1
          },
          "coloraxis": {
           "colorbar": {
            "outlinewidth": 0,
            "ticks": ""
           }
          },
          "colorscale": {
           "diverging": [
            [
             0,
             "#8e0152"
            ],
            [
             0.1,
             "#c51b7d"
            ],
            [
             0.2,
             "#de77ae"
            ],
            [
             0.3,
             "#f1b6da"
            ],
            [
             0.4,
             "#fde0ef"
            ],
            [
             0.5,
             "#f7f7f7"
            ],
            [
             0.6,
             "#e6f5d0"
            ],
            [
             0.7,
             "#b8e186"
            ],
            [
             0.8,
             "#7fbc41"
            ],
            [
             0.9,
             "#4d9221"
            ],
            [
             1,
             "#276419"
            ]
           ],
           "sequential": [
            [
             0,
             "#0d0887"
            ],
            [
             0.1111111111111111,
             "#46039f"
            ],
            [
             0.2222222222222222,
             "#7201a8"
            ],
            [
             0.3333333333333333,
             "#9c179e"
            ],
            [
             0.4444444444444444,
             "#bd3786"
            ],
            [
             0.5555555555555556,
             "#d8576b"
            ],
            [
             0.6666666666666666,
             "#ed7953"
            ],
            [
             0.7777777777777778,
             "#fb9f3a"
            ],
            [
             0.8888888888888888,
             "#fdca26"
            ],
            [
             1,
             "#f0f921"
            ]
           ],
           "sequentialminus": [
            [
             0,
             "#0d0887"
            ],
            [
             0.1111111111111111,
             "#46039f"
            ],
            [
             0.2222222222222222,
             "#7201a8"
            ],
            [
             0.3333333333333333,
             "#9c179e"
            ],
            [
             0.4444444444444444,
             "#bd3786"
            ],
            [
             0.5555555555555556,
             "#d8576b"
            ],
            [
             0.6666666666666666,
             "#ed7953"
            ],
            [
             0.7777777777777778,
             "#fb9f3a"
            ],
            [
             0.8888888888888888,
             "#fdca26"
            ],
            [
             1,
             "#f0f921"
            ]
           ]
          },
          "colorway": [
           "#636efa",
           "#EF553B",
           "#00cc96",
           "#ab63fa",
           "#FFA15A",
           "#19d3f3",
           "#FF6692",
           "#B6E880",
           "#FF97FF",
           "#FECB52"
          ],
          "font": {
           "color": "#2a3f5f"
          },
          "geo": {
           "bgcolor": "white",
           "lakecolor": "white",
           "landcolor": "#E5ECF6",
           "showlakes": true,
           "showland": true,
           "subunitcolor": "white"
          },
          "hoverlabel": {
           "align": "left"
          },
          "hovermode": "closest",
          "mapbox": {
           "style": "light"
          },
          "paper_bgcolor": "white",
          "plot_bgcolor": "#E5ECF6",
          "polar": {
           "angularaxis": {
            "gridcolor": "white",
            "linecolor": "white",
            "ticks": ""
           },
           "bgcolor": "#E5ECF6",
           "radialaxis": {
            "gridcolor": "white",
            "linecolor": "white",
            "ticks": ""
           }
          },
          "scene": {
           "xaxis": {
            "backgroundcolor": "#E5ECF6",
            "gridcolor": "white",
            "gridwidth": 2,
            "linecolor": "white",
            "showbackground": true,
            "ticks": "",
            "zerolinecolor": "white"
           },
           "yaxis": {
            "backgroundcolor": "#E5ECF6",
            "gridcolor": "white",
            "gridwidth": 2,
            "linecolor": "white",
            "showbackground": true,
            "ticks": "",
            "zerolinecolor": "white"
           },
           "zaxis": {
            "backgroundcolor": "#E5ECF6",
            "gridcolor": "white",
            "gridwidth": 2,
            "linecolor": "white",
            "showbackground": true,
            "ticks": "",
            "zerolinecolor": "white"
           }
          },
          "shapedefaults": {
           "line": {
            "color": "#2a3f5f"
           }
          },
          "ternary": {
           "aaxis": {
            "gridcolor": "white",
            "linecolor": "white",
            "ticks": ""
           },
           "baxis": {
            "gridcolor": "white",
            "linecolor": "white",
            "ticks": ""
           },
           "bgcolor": "#E5ECF6",
           "caxis": {
            "gridcolor": "white",
            "linecolor": "white",
            "ticks": ""
           }
          },
          "title": {
           "x": 0.05
          },
          "xaxis": {
           "automargin": true,
           "gridcolor": "white",
           "linecolor": "white",
           "ticks": "",
           "title": {
            "standoff": 15
           },
           "zerolinecolor": "white",
           "zerolinewidth": 2
          },
          "yaxis": {
           "automargin": true,
           "gridcolor": "white",
           "linecolor": "white",
           "ticks": "",
           "title": {
            "standoff": 15
           },
           "zerolinecolor": "white",
           "zerolinewidth": 2
          }
         }
        },
        "title": {
         "text": "International Business Machines Corp<br>IT Services & Consulting - NEC"
        },
        "xaxis": {
         "anchor": "y",
         "domain": [
          0,
          0.45
         ]
        },
        "xaxis2": {
         "anchor": "y2",
         "domain": [
          0.55,
          1
         ]
        },
        "xaxis3": {
         "anchor": "y3",
         "domain": [
          0,
          0.45
         ]
        },
        "xaxis4": {
         "anchor": "y4",
         "domain": [
          0.55,
          1
         ]
        },
        "yaxis": {
         "anchor": "x",
         "domain": [
          0.625,
          1
         ]
        },
        "yaxis2": {
         "anchor": "x2",
         "domain": [
          0.625,
          1
         ]
        },
        "yaxis3": {
         "anchor": "x3",
         "domain": [
          0,
          0.375
         ]
        },
        "yaxis4": {
         "anchor": "x4",
         "domain": [
          0,
          0.375
         ]
        }
       }
      },
      "text/html": [
       "<div>                            <div id=\"7ad46c86-abff-4353-a69e-7f7ccc7cd834\" class=\"plotly-graph-div\" style=\"height:525px; width:100%;\"></div>            <script type=\"text/javascript\">                require([\"plotly\"], function(Plotly) {                    window.PLOTLYENV=window.PLOTLYENV || {};                                    if (document.getElementById(\"7ad46c86-abff-4353-a69e-7f7ccc7cd834\")) {                    Plotly.newPlot(                        \"7ad46c86-abff-4353-a69e-7f7ccc7cd834\",                        [{\"marker\": {\"color\": [\"grey\", \"grey\", \"grey\", \"grey\", \"grey\", \"grey\", \"grey\", \"grey\", \"grey\", \"grey\", \"grey\", \"grey\", \"grey\", \"green\", \"grey\", \"grey\", \"grey\", \"grey\", \"grey\", \"grey\"]}, \"type\": \"histogram\", \"x\": [43.3304162901512, 25.3031619595171, 19.7219505942125, 71.585595424591, 52.1594854668033, 30.1891768773931, 17.5024395536207, 31.1354801570409, 46.759849219238, 37.6748259979134, 37.9936806958257, 23.4719882989096, 41.4302820137213, 6.11377604607371, 70.7337986160035, 59.0723143078593, 63.3497563281576, 76.1433830194482, 27.8763858755095, 30.4050943774255, 42.1089401454874, 15.6669071669071, 90.7615193155257, 75.5441450572641, 31.0340106304952, 59.7947735682309, 75.7024692074341, 86.9036594986551, 68.8857579479688, 40.3774250604219, 81.590132609478, 26.0138557360712, 61.9697677810231, 46.5094069435016, 67.844515933056, 84.1901529240508, 65.4567498909092, 8.49271141281981, 64.5562135791391, 16.6469729785671, 35.9427828830699, 82.5358393967516, 51.6272540567615, 34.7100179564123, 50.8041007765702, 32.0260879349539, 54.8344238002998, 42.8847502498954, 65.6934530542965, 20.7671789362814, 24.4838053804496, 45.6267947931568, 44.3081919922679, 27.0875472042358, 50.3045299315341, 56.8402379718507, 45.8045796397401, 43.6340466895104, 70.3323882519181, 48.7355527894547, 42.4257813432358, 36.1891665156979, 40.8384585457786, 80.6222467182971, 49.2703037513606, 66.1806058706313, 29.6980135016956, 52.4168972918121, 51.9868666130425, 58.1439774072663, 33.0385472496655, 34.7979822188816, 72.2205041675003, 57.5338446100481, 74.6933429121914, 44.868368503059, 41.7523165271037, 69.9498765131913, 49.7732669918083, 59.9068922730899, 61.5613657434083, 51.1837617925132, 40.5363847104938, 53.5214799028118, 22.9754460068211, 58.4742407049511, 40.3929822676332, 72.7476644914275, 35.4264173354347, 36.2769158659111, 20.1846794003009, 42.9630110302125, 37.2523836016415, 36.0904262278807, 44.3214299440254, 51.7337048079084, 53.7493261746021, 48.7377652079233, 63.9908689328282, 44.808510118796, 22.2356128507417, 32.7234129950893, 57.8625235185909, 24.8235468823884, 12.5789671158821, 37.8893635949193, 50.3518238393376, 43.1690171255036, 28.3492925942066, 51.4559340681281, 51.0838843909712, 52.2596246320611, 33.5027893969344, 18.4152576502513, 48.7983830235895, 43.1123480579774, 50.1125830315477, 29.1588447121533, 20.2399882580586, 25.5120338096567, 28.0111879795338, 42.1245280769848, 54.0536382719525, 20.4530242273461, 41.9728908710653, 71.9890759619933, 22.5647890342431, 33.0145347454999, 48.7323897815172, 52.6083668378396, 16.9354625214396, 27.4100573323311, 42.7073776657701, 55.9555851035614, 19.7481930677878, 46.0281191140826, 22.0508118370121, 18.7487860611253, 32.3363200639761, 21.7053983266051, 47.2728705940733, 52.8828927409159, 56.681292595714, 47.7060982849855, 39.2604538937377, 56.3906082617753, 43.6108443790054, 17.4778931313645, 68.2445848229278, 66.9713693981927, 34.1803963809437, 23.4891634714899, 45.4033796958293, 31.7897287280466, 40.9216238853376, 41.9003329243355, 26.2763433822626, 35.4563792888407, 83.3376131771155, 21.5393941017212, 43.1602794090051, 20.2639121914341, 42.1440000750624, 25.9608899710943, 39.1032152984529, 21.3310091908164, 35.7577428526622, 25.0544257289559, 18.1217683123542, 10.6105408973616, 62.211500339072, 28.2678253785493], \"xaxis\": \"x\", \"xbins\": {\"end\": 100, \"size\": 5, \"start\": 0}, \"yaxis\": \"y\"}, {\"marker\": {\"color\": [\"grey\", \"grey\", \"grey\", \"grey\", \"grey\", \"grey\", \"grey\", \"grey\", \"grey\", \"grey\", \"grey\", \"grey\", \"grey\", \"grey\", \"grey\", \"green\", \"grey\", \"grey\", \"grey\", \"grey\"]}, \"type\": \"histogram\", \"x\": [12.1693121693121, 0.0, 0.0, 40.4556200300881, 2.05673758865248, 0.0, 0.0, 54.8828712658499, 54.1349666881581, 17.1948707019039, 29.9881796690307, 0.0, 0.0, 24.4949494949494, 72.4607779926928, 76.9310122501611, 74.8678272082526, 68.4504620674832, 34.7206103589082, 26.8869546529121, 38.8147431764452, 0.0, 77.9862454330538, 72.2630560928432, 6.09103078982596, 14.5074224021592, 53.4891467870191, 78.3709434773263, 47.4156458199011, 29.0485829959513, 72.5194396247027, 24.4949494949494, 20.9209112400601, 70.2342574682999, 75.2955082742315, 69.3079733505264, 64.5647969052223, 2.29419703103913, 65.7575757575756, 0.0, 24.6544391281233, 67.0191274446592, 38.7773515203182, 44.6722544594884, 11.0526315789473, 21.7611336032388, 15.8307092517618, 43.4407908875993, 73.7954008166773, 28.8244143563292, 0.0, 0.0, 65.0683521271755, 10.1851851851851, 34.5552369436404, 27.2566086395873, 37.1081405522968, 16.0722610722611, 82.1079188549067, 9.78401031592519, 28.8168923275305, 27.4269005847952, 19.0570588429642, 68.7572135877761, 38.9177982621336, 75.1730066623682, 0.0, 24.9720610358907, 27.4151037226484, 50.1687083601976, 0.0, 0.0, 78.5106382978722, 18.5815602836879, 67.8698876429054, 15.9259259259259, 0.0, 79.0995056952502, 49.8774983881366, 19.2934782608695, 69.0436277670319, 23.7405974640016, 0.0, 32.9722759509993, 11.9908647671735, 44.9957016978293, 0.0, 51.6191889241761, 0.0, 0.0, 6.19307832422585, 69.3724478830861, 0.0, 0.0, 6.73758865248226, 30.0010745755426, 10.2385557704706, 13.0163335482484, 53.6848235697156, 62.3146873018995, 0.0, 4.32624113475176, 0.0, 16.7836257309941, 0.0, 0.0, 33.1764239658976, 0.0, 0.0, 27.5177304964538, 9.00709219858155, 53.6814958091553, 33.5579196217493, 0.0, 16.5629440181869, 52.4758220502901, 16.0530840318074, 4.89898989898989, 0.0, 0.0, 0.0, 30.7513336269759, 72.7014829142488, 0.0, 14.5379325166559, 77.6445304104877, 3.92156862745097, 12.0071684587813, 12.0062325381474, 26.5516870836019, 0.0, 0.0, 5.05050505050504, 36.2851923490221, 0.0, 35.7436062755211, 0.0, 0.0, 27.3103374167203, 0.0, 34.3337631635503, 55.9950569525037, 22.5714592735869, 22.1502256608639, 16.4230019493177, 11.9997850848914, 0.0, 9.87654320987653, 12.1985815602836, 44.5325596389425, 0.0, 0.0, 2.27272727272727, 2.05673758865248, 9.3525179856115, 2.27272727272727, 0.0, 0.0, 76.0606060606059, 0.0, 0.0, 0.0, 0.0, 0.0, 29.2048140984311, 4.44444444444444, 0.0, 0.0, 0.0, 0.0, 64.8570814528261, 11.067053513862], \"xaxis\": \"x2\", \"xbins\": {\"end\": 100, \"size\": 5, \"start\": 0}, \"yaxis\": \"y2\"}, {\"marker\": {\"color\": [\"grey\", \"grey\", \"grey\", \"grey\", \"grey\", \"grey\", \"grey\", \"grey\", \"grey\", \"grey\", \"grey\", \"grey\", \"grey\", \"grey\", \"grey\", \"grey\", \"grey\", \"grey\", \"grey\", \"green\"]}, \"type\": \"histogram\", \"x\": [44.6553868129975, 25.9276907820493, 33.9871931092127, 63.4151768777112, 49.7123406348934, 24.8550509337861, 21.4465324719773, 41.9918004765817, 67.7700620024506, 39.5459433040077, 45.8336599204728, 6.22566740823137, 8.97455506117909, 4.23595661846496, 90.2447193785708, 75.4787057785541, 85.3666578007171, 83.3491645692439, 47.6183473089757, 46.4636374313662, 75.4578492713238, 21.470189701897, 93.248449938732, 97.4950830304917, 51.8402625943242, 60.4935621494833, 87.880063681465, 91.2208039169468, 78.9156220586976, 39.9127178337952, 92.4039033100313, 27.0288033712671, 62.1142030493484, 72.1931369074814, 72.2576740241938, 94.1567866489293, 63.7607329785876, 6.43999453253144, 84.4072584681252, 28.7296247967827, 32.0059944799034, 84.8349349220468, 59.3847730273875, 47.6308612133139, 45.3499342587701, 44.0671084835926, 41.0982777474029, 48.0244125063971, 86.2948904281647, 25.2632732951142, 18.8968219405209, 39.0310958211539, 48.1689383644036, 30.7431978577432, 63.2575078896467, 65.7651775234859, 25.736639425023, 53.506163709017, 49.6359559128572, 34.342150244345, 59.1356254167264, 38.5659965716066, 54.7582767402376, 92.047529625628, 53.7232926421004, 65.7959668539951, 15.0549853372433, 75.0940803037078, 66.9829106000582, 66.3211573171932, 31.7788461538461, 28.1658633749217, 78.5388992526771, 54.9285460300187, 86.1998679494434, 55.3966475710161, 31.0405257978951, 97.8250093637341, 74.2695005820044, 70.4773113134742, 55.6138200241842, 67.94572888599, 40.8973111149139, 57.7164263711816, 38.7001615895624, 88.7262869484073, 30.3885630498533, 91.8194894616795, 26.1058761872165, 49.1613676137491, 23.8685618528936, 67.3552465568095, 46.5719338613618, 31.5285680670831, 35.4489617959641, 48.8818117130628, 50.9960319158038, 46.5661097800975, 66.1686975480946, 44.1568914956011, 42.8418005613672, 30.166520089246, 62.1909069664567, 37.9153762968629, 11.4943388164922, 29.5388572773166, 71.718614264018, 37.7438072216992, 38.0232844185847, 58.7158516316306, 43.3375224608539, 70.6887924576734, 27.390221315088, 29.0249266862169, 56.4188146318876, 61.2512945766219, 52.1745426300146, 34.4192799691965, 29.7008075009968, 45.1925113412611, 44.2644183773215, 63.0918722103694, 86.173450463424, 28.4501475998972, 45.0268995465046, 90.4324279436431, 30.896871945259, 22.2968577482021, 62.8202225582044, 30.2066933344741, 35.0324702886247, 33.9500266239832, 33.0431783177889, 66.5306668351062, 43.3406647116324, 59.8521448198368, 11.1603170189099, 38.0985663082436, 37.1026073560204, 25.4799738820277, 53.4992063024389, 58.6820877010579, 58.1372999914434, 45.8314097989864, 73.8952718859847, 71.2195708907332, 39.0202254641909, 38.1927098113363, 76.4484153090596, 73.7100739654283, 54.2997026610763, 30.3272332506203, 55.5396487550269, 33.2206674970253, 66.3256049814747, 70.9535399355193, 47.6266899118678, 43.914950049321, 87.6505633981313, 25.3775512139758, 63.6778578762727, 41.3853533841019, 55.5535795913611, 50.1555540263249, 46.895957409539, 39.6896383186705, 46.4286291568979, 19.8866796440489, 28.9569607255925, 6.99318687430478, 63.0518014290995, 38.3820163429451], \"xaxis\": \"x3\", \"xbins\": {\"end\": 100, \"size\": 5, \"start\": 0}, \"yaxis\": \"y3\"}, {\"marker\": {\"color\": [\"grey\", \"grey\", \"grey\", \"grey\", \"grey\", \"grey\", \"grey\", \"grey\", \"yellow\", \"grey\", \"grey\", \"grey\", \"grey\", \"grey\", \"grey\", \"grey\", \"grey\", \"grey\", \"grey\", \"grey\"]}, \"type\": \"histogram\", \"x\": [51.5378006872852, 32.3563218390804, 13.3545769401151, 87.9602262360883, 69.2975734355044, 43.8392050587172, 19.3568691844553, 14.6627647714604, 26.4551863041289, 42.2075726842461, 33.6442377826403, 45.3645833333333, 81.8073537158603, 2.21643518518518, 53.4146341463414, 39.5869789365149, 40.9353365738694, 72.2462807482692, 8.82309618500515, 17.6323464427751, 14.3800830445077, 28.4126984126984, 92.4525778880617, 57.6262751585332, 20.6004098360655, 72.7792443064182, 71.8802040253653, 85.7459332781913, 66.6899641577061, 44.1762422360248, 74.9994824016563, 25.5955449225446, 74.1600499289206, 17.2754065393016, 61.8089987633346, 80.0724277552404, 67.1847947944477, 12.1198830409356, 47.1018496045367, 11.2365591397849, 42.719298245614, 85.2110762800418, 48.8021390374331, 20.5950653120464, 67.4261849261849, 24.7369176509186, 78.3638861548556, 38.2921177821522, 45.5227420980845, 14.4783715012722, 36.6399605123009, 64.9944629014396, 34.7556123535676, 29.0103344138752, 47.8312678861207, 58.0299621576217, 65.6942376619796, 43.4015927189988, 84.6216569185461, 72.8153343898025, 32.1194156513305, 36.7711315246029, 35.3863683447275, 74.3433185983628, 48.5415371866584, 63.8141025641025, 51.2166918049271, 41.1227739083451, 46.4451353802306, 53.4950976433942, 44.0348540348541, 50.9483681112894, 64.8926237161531, 71.4629814629814, 66.8319829331212, 44.4850831899024, 63.5020535020535, 43.2014011372728, 28.6480186480186, 62.9886111919805, 64.4381848389864, 44.982794982795, 52.3865023865024, 56.0739260739261, 12.7300930713547, 36.4674292530004, 61.1257934965669, 76.0507936598993, 54.0803640803641, 36.0650460650461, 21.2099276111685, 14.0357549375585, 40.4029304029304, 50.8458208458208, 63.2367632367632, 60.7092907092907, 69.1734495742512, 61.3242313242313, 65.2073301230604, 40.1177730005049, 11.1620795107033, 43.4443334443334, 71.4940614940615, 15.9620034542314, 17.2866427306769, 56.4468864468864, 37.1052631578947, 60.7914307914308, 28.5236985236985, 52.3857994599477, 70.3774003774004, 35.9635020957666, 38.7498506221911, 14.8037310532452, 51.9069763958424, 24.6836574692286, 58.5548564105678, 31.9069819069819, 18.1651681651681, 16.2185660781166, 22.4187070864101, 27.4812734082397, 20.8005577143853, 19.7025197025197, 47.5735375735375, 54.4106643099131, 20.9829059829059, 48.5458553791887, 47.6190476190476, 79.7157007253424, 6.43256681168427, 30.0014343086632, 62.3263888888889, 52.7503825499817, 5.35691151703588, 37.2094508301404, 38.0439814814814, 7.71111111111111, 29.7398119122257, 24.9666888740839, 45.7930359632487, 46.9554922617617, 65.6604584460296, 56.9871751573879, 16.2872628726287, 56.9384707287933, 60.6471306471306, 1.92053930005737, 77.9939762164408, 67.9002389486261, 27.1095571095571, 24.6475746475746, 49.6141215106732, 39.4774287965777, 28.5167052669152, 28.7705752490763, 15.7742257742257, 38.8095238095238, 81.8067859550825, 24.6961325966851, 38.4404484404484, 8.15517815517815, 43.2400621807683, 12.9148629148629, 35.3623188405797, 10.5881590879647, 37.2962469464801, 37.020757020757, 14.2279942279942, 16.9086469086469, 60.6942333996442, 24.7186147186147], \"xaxis\": \"x4\", \"xbins\": {\"end\": 100, \"size\": 5, \"start\": 0}, \"yaxis\": \"y4\"}],                        {\"annotations\": [{\"font\": {\"size\": 16}, \"showarrow\": false, \"text\": \"ESG Score (69)\", \"x\": 0.225, \"xanchor\": \"center\", \"xref\": \"paper\", \"y\": 1.0, \"yanchor\": \"bottom\", \"yref\": \"paper\"}, {\"font\": {\"size\": 16}, \"showarrow\": false, \"text\": \"Environment Pillar Score (79)\", \"x\": 0.775, \"xanchor\": \"center\", \"xref\": \"paper\", \"y\": 1.0, \"yanchor\": \"bottom\", \"yref\": \"paper\"}, {\"font\": {\"size\": 16}, \"showarrow\": false, \"text\": \"Social Pillar Score (97)\", \"x\": 0.225, \"xanchor\": \"center\", \"xref\": \"paper\", \"y\": 0.375, \"yanchor\": \"bottom\", \"yref\": \"paper\"}, {\"font\": {\"size\": 16}, \"showarrow\": false, \"text\": \"Governance Pillar Score (43)\", \"x\": 0.775, \"xanchor\": \"center\", \"xref\": \"paper\", \"y\": 0.375, \"yanchor\": \"bottom\", \"yref\": \"paper\"}], \"bargap\": 0.2, \"showlegend\": false, \"template\": {\"data\": {\"bar\": [{\"error_x\": {\"color\": \"#2a3f5f\"}, \"error_y\": {\"color\": \"#2a3f5f\"}, \"marker\": {\"line\": {\"color\": \"#E5ECF6\", \"width\": 0.5}}, \"type\": \"bar\"}], \"barpolar\": [{\"marker\": {\"line\": {\"color\": \"#E5ECF6\", \"width\": 0.5}}, \"type\": \"barpolar\"}], \"carpet\": [{\"aaxis\": {\"endlinecolor\": \"#2a3f5f\", \"gridcolor\": \"white\", \"linecolor\": \"white\", \"minorgridcolor\": \"white\", \"startlinecolor\": \"#2a3f5f\"}, \"baxis\": {\"endlinecolor\": \"#2a3f5f\", \"gridcolor\": \"white\", \"linecolor\": \"white\", \"minorgridcolor\": \"white\", \"startlinecolor\": \"#2a3f5f\"}, \"type\": \"carpet\"}], \"choropleth\": [{\"colorbar\": {\"outlinewidth\": 0, \"ticks\": \"\"}, \"type\": \"choropleth\"}], \"contour\": [{\"colorbar\": {\"outlinewidth\": 0, \"ticks\": \"\"}, \"colorscale\": [[0.0, \"#0d0887\"], [0.1111111111111111, \"#46039f\"], [0.2222222222222222, \"#7201a8\"], [0.3333333333333333, \"#9c179e\"], [0.4444444444444444, \"#bd3786\"], [0.5555555555555556, \"#d8576b\"], [0.6666666666666666, \"#ed7953\"], [0.7777777777777778, \"#fb9f3a\"], [0.8888888888888888, \"#fdca26\"], [1.0, \"#f0f921\"]], \"type\": \"contour\"}], \"contourcarpet\": [{\"colorbar\": {\"outlinewidth\": 0, \"ticks\": \"\"}, \"type\": \"contourcarpet\"}], \"heatmap\": [{\"colorbar\": {\"outlinewidth\": 0, \"ticks\": \"\"}, \"colorscale\": [[0.0, \"#0d0887\"], [0.1111111111111111, \"#46039f\"], [0.2222222222222222, \"#7201a8\"], [0.3333333333333333, \"#9c179e\"], [0.4444444444444444, \"#bd3786\"], [0.5555555555555556, \"#d8576b\"], [0.6666666666666666, \"#ed7953\"], [0.7777777777777778, \"#fb9f3a\"], [0.8888888888888888, \"#fdca26\"], [1.0, \"#f0f921\"]], \"type\": \"heatmap\"}], \"heatmapgl\": [{\"colorbar\": {\"outlinewidth\": 0, \"ticks\": \"\"}, \"colorscale\": [[0.0, \"#0d0887\"], [0.1111111111111111, \"#46039f\"], [0.2222222222222222, \"#7201a8\"], [0.3333333333333333, \"#9c179e\"], [0.4444444444444444, \"#bd3786\"], [0.5555555555555556, \"#d8576b\"], [0.6666666666666666, \"#ed7953\"], [0.7777777777777778, \"#fb9f3a\"], [0.8888888888888888, \"#fdca26\"], [1.0, \"#f0f921\"]], \"type\": \"heatmapgl\"}], \"histogram\": [{\"marker\": {\"colorbar\": {\"outlinewidth\": 0, \"ticks\": \"\"}}, \"type\": \"histogram\"}], \"histogram2d\": [{\"colorbar\": {\"outlinewidth\": 0, \"ticks\": \"\"}, \"colorscale\": [[0.0, \"#0d0887\"], [0.1111111111111111, \"#46039f\"], [0.2222222222222222, \"#7201a8\"], [0.3333333333333333, \"#9c179e\"], [0.4444444444444444, \"#bd3786\"], [0.5555555555555556, \"#d8576b\"], [0.6666666666666666, \"#ed7953\"], [0.7777777777777778, \"#fb9f3a\"], [0.8888888888888888, \"#fdca26\"], [1.0, \"#f0f921\"]], \"type\": \"histogram2d\"}], \"histogram2dcontour\": [{\"colorbar\": {\"outlinewidth\": 0, \"ticks\": \"\"}, \"colorscale\": [[0.0, \"#0d0887\"], [0.1111111111111111, \"#46039f\"], [0.2222222222222222, \"#7201a8\"], [0.3333333333333333, \"#9c179e\"], [0.4444444444444444, \"#bd3786\"], [0.5555555555555556, \"#d8576b\"], [0.6666666666666666, \"#ed7953\"], [0.7777777777777778, \"#fb9f3a\"], [0.8888888888888888, \"#fdca26\"], [1.0, \"#f0f921\"]], \"type\": \"histogram2dcontour\"}], \"mesh3d\": [{\"colorbar\": {\"outlinewidth\": 0, \"ticks\": \"\"}, \"type\": \"mesh3d\"}], \"parcoords\": [{\"line\": {\"colorbar\": {\"outlinewidth\": 0, \"ticks\": \"\"}}, \"type\": \"parcoords\"}], \"pie\": [{\"automargin\": true, \"type\": \"pie\"}], \"scatter\": [{\"marker\": {\"colorbar\": {\"outlinewidth\": 0, \"ticks\": \"\"}}, \"type\": \"scatter\"}], \"scatter3d\": [{\"line\": {\"colorbar\": {\"outlinewidth\": 0, \"ticks\": \"\"}}, \"marker\": {\"colorbar\": {\"outlinewidth\": 0, \"ticks\": \"\"}}, \"type\": \"scatter3d\"}], \"scattercarpet\": [{\"marker\": {\"colorbar\": {\"outlinewidth\": 0, \"ticks\": \"\"}}, \"type\": \"scattercarpet\"}], \"scattergeo\": [{\"marker\": {\"colorbar\": {\"outlinewidth\": 0, \"ticks\": \"\"}}, \"type\": \"scattergeo\"}], \"scattergl\": [{\"marker\": {\"colorbar\": {\"outlinewidth\": 0, \"ticks\": \"\"}}, \"type\": \"scattergl\"}], \"scattermapbox\": [{\"marker\": {\"colorbar\": {\"outlinewidth\": 0, \"ticks\": \"\"}}, \"type\": \"scattermapbox\"}], \"scatterpolar\": [{\"marker\": {\"colorbar\": {\"outlinewidth\": 0, \"ticks\": \"\"}}, \"type\": \"scatterpolar\"}], \"scatterpolargl\": [{\"marker\": {\"colorbar\": {\"outlinewidth\": 0, \"ticks\": \"\"}}, \"type\": \"scatterpolargl\"}], \"scatterternary\": [{\"marker\": {\"colorbar\": {\"outlinewidth\": 0, \"ticks\": \"\"}}, \"type\": \"scatterternary\"}], \"surface\": [{\"colorbar\": {\"outlinewidth\": 0, \"ticks\": \"\"}, \"colorscale\": [[0.0, \"#0d0887\"], [0.1111111111111111, \"#46039f\"], [0.2222222222222222, \"#7201a8\"], [0.3333333333333333, \"#9c179e\"], [0.4444444444444444, \"#bd3786\"], [0.5555555555555556, \"#d8576b\"], [0.6666666666666666, \"#ed7953\"], [0.7777777777777778, \"#fb9f3a\"], [0.8888888888888888, \"#fdca26\"], [1.0, \"#f0f921\"]], \"type\": \"surface\"}], \"table\": [{\"cells\": {\"fill\": {\"color\": \"#EBF0F8\"}, \"line\": {\"color\": \"white\"}}, \"header\": {\"fill\": {\"color\": \"#C8D4E3\"}, \"line\": {\"color\": \"white\"}}, \"type\": \"table\"}]}, \"layout\": {\"annotationdefaults\": {\"arrowcolor\": \"#2a3f5f\", \"arrowhead\": 0, \"arrowwidth\": 1}, \"coloraxis\": {\"colorbar\": {\"outlinewidth\": 0, \"ticks\": \"\"}}, \"colorscale\": {\"diverging\": [[0, \"#8e0152\"], [0.1, \"#c51b7d\"], [0.2, \"#de77ae\"], [0.3, \"#f1b6da\"], [0.4, \"#fde0ef\"], [0.5, \"#f7f7f7\"], [0.6, \"#e6f5d0\"], [0.7, \"#b8e186\"], [0.8, \"#7fbc41\"], [0.9, \"#4d9221\"], [1, \"#276419\"]], \"sequential\": [[0.0, \"#0d0887\"], [0.1111111111111111, \"#46039f\"], [0.2222222222222222, \"#7201a8\"], [0.3333333333333333, \"#9c179e\"], [0.4444444444444444, \"#bd3786\"], [0.5555555555555556, \"#d8576b\"], [0.6666666666666666, \"#ed7953\"], [0.7777777777777778, \"#fb9f3a\"], [0.8888888888888888, \"#fdca26\"], [1.0, \"#f0f921\"]], \"sequentialminus\": [[0.0, \"#0d0887\"], [0.1111111111111111, \"#46039f\"], [0.2222222222222222, \"#7201a8\"], [0.3333333333333333, \"#9c179e\"], [0.4444444444444444, \"#bd3786\"], [0.5555555555555556, \"#d8576b\"], [0.6666666666666666, \"#ed7953\"], [0.7777777777777778, \"#fb9f3a\"], [0.8888888888888888, \"#fdca26\"], [1.0, \"#f0f921\"]]}, \"colorway\": [\"#636efa\", \"#EF553B\", \"#00cc96\", \"#ab63fa\", \"#FFA15A\", \"#19d3f3\", \"#FF6692\", \"#B6E880\", \"#FF97FF\", \"#FECB52\"], \"font\": {\"color\": \"#2a3f5f\"}, \"geo\": {\"bgcolor\": \"white\", \"lakecolor\": \"white\", \"landcolor\": \"#E5ECF6\", \"showlakes\": true, \"showland\": true, \"subunitcolor\": \"white\"}, \"hoverlabel\": {\"align\": \"left\"}, \"hovermode\": \"closest\", \"mapbox\": {\"style\": \"light\"}, \"paper_bgcolor\": \"white\", \"plot_bgcolor\": \"#E5ECF6\", \"polar\": {\"angularaxis\": {\"gridcolor\": \"white\", \"linecolor\": \"white\", \"ticks\": \"\"}, \"bgcolor\": \"#E5ECF6\", \"radialaxis\": {\"gridcolor\": \"white\", \"linecolor\": \"white\", \"ticks\": \"\"}}, \"scene\": {\"xaxis\": {\"backgroundcolor\": \"#E5ECF6\", \"gridcolor\": \"white\", \"gridwidth\": 2, \"linecolor\": \"white\", \"showbackground\": true, \"ticks\": \"\", \"zerolinecolor\": \"white\"}, \"yaxis\": {\"backgroundcolor\": \"#E5ECF6\", \"gridcolor\": \"white\", \"gridwidth\": 2, \"linecolor\": \"white\", \"showbackground\": true, \"ticks\": \"\", \"zerolinecolor\": \"white\"}, \"zaxis\": {\"backgroundcolor\": \"#E5ECF6\", \"gridcolor\": \"white\", \"gridwidth\": 2, \"linecolor\": \"white\", \"showbackground\": true, \"ticks\": \"\", \"zerolinecolor\": \"white\"}}, \"shapedefaults\": {\"line\": {\"color\": \"#2a3f5f\"}}, \"ternary\": {\"aaxis\": {\"gridcolor\": \"white\", \"linecolor\": \"white\", \"ticks\": \"\"}, \"baxis\": {\"gridcolor\": \"white\", \"linecolor\": \"white\", \"ticks\": \"\"}, \"bgcolor\": \"#E5ECF6\", \"caxis\": {\"gridcolor\": \"white\", \"linecolor\": \"white\", \"ticks\": \"\"}}, \"title\": {\"x\": 0.05}, \"xaxis\": {\"automargin\": true, \"gridcolor\": \"white\", \"linecolor\": \"white\", \"ticks\": \"\", \"title\": {\"standoff\": 15}, \"zerolinecolor\": \"white\", \"zerolinewidth\": 2}, \"yaxis\": {\"automargin\": true, \"gridcolor\": \"white\", \"linecolor\": \"white\", \"ticks\": \"\", \"title\": {\"standoff\": 15}, \"zerolinecolor\": \"white\", \"zerolinewidth\": 2}}}, \"title\": {\"text\": \"International Business Machines Corp<br>IT Services & Consulting - NEC\"}, \"xaxis\": {\"anchor\": \"y\", \"domain\": [0.0, 0.45]}, \"xaxis2\": {\"anchor\": \"y2\", \"domain\": [0.55, 1.0]}, \"xaxis3\": {\"anchor\": \"y3\", \"domain\": [0.0, 0.45]}, \"xaxis4\": {\"anchor\": \"y4\", \"domain\": [0.55, 1.0]}, \"yaxis\": {\"anchor\": \"x\", \"domain\": [0.625, 1.0]}, \"yaxis2\": {\"anchor\": \"x2\", \"domain\": [0.625, 1.0]}, \"yaxis3\": {\"anchor\": \"x3\", \"domain\": [0.0, 0.375]}, \"yaxis4\": {\"anchor\": \"x4\", \"domain\": [0.0, 0.375]}},                        {\"responsive\": true}                    ).then(function(){\n",
       "                            \n",
       "var gd = document.getElementById('7ad46c86-abff-4353-a69e-7f7ccc7cd834');\n",
       "var x = new MutationObserver(function (mutations, observer) {{\n",
       "        var display = window.getComputedStyle(gd).display;\n",
       "        if (!display || display === 'none') {{\n",
       "            console.log([gd, 'removed!']);\n",
       "            Plotly.purge(gd);\n",
       "            observer.disconnect();\n",
       "        }}\n",
       "}});\n",
       "\n",
       "// Listen for the removal of the full notebook cells\n",
       "var notebookContainer = gd.closest('#notebook-container');\n",
       "if (notebookContainer) {{\n",
       "    x.observe(notebookContainer, {childList: true});\n",
       "}}\n",
       "\n",
       "// Listen for the clearing of the current output cell\n",
       "var outputEl = gd.closest('.output');\n",
       "if (outputEl) {{\n",
       "    x.observe(outputEl, {childList: true});\n",
       "}}\n",
       "\n",
       "                        })                };                });            </script>        </div>"
      ]
     },
     "metadata": {},
     "output_type": "display_data"
    }
   ],
   "source": [
    "plotQuantilesV2('IBM')"
   ]
  },
  {
   "cell_type": "code",
   "execution_count": 6,
   "metadata": {},
   "outputs": [
    {
     "data": {
      "application/vnd.plotly.v1+json": {
       "config": {
        "plotlyServerURL": "https://plot.ly"
       },
       "data": [
        {
         "marker": {
          "color": [
           "grey",
           "grey",
           "grey",
           "grey",
           "grey",
           "red",
           "grey",
           "grey",
           "grey",
           "grey",
           "grey",
           "grey",
           "grey",
           "grey",
           "grey",
           "grey",
           "grey",
           "grey",
           "grey",
           "grey"
          ]
         },
         "type": "histogram",
         "x": [
          21.7581099654959,
          28.113718005463,
          36.7128974623878,
          46.691221829285,
          38.9199043537636,
          54.6691878198555,
          36.9180405929321,
          7.87995651816332,
          77.2798751793192,
          58.5223671119471,
          15.9691973338481,
          66.4638309717713,
          45.9690140420101,
          65.6740387664321,
          80.6182533448705,
          17.6707229653827,
          9.93899381581146,
          81.6851384012467,
          43.7656354783057,
          21.8148930270215,
          57.9178107379955,
          41.7177913573498,
          29.4095319213589,
          65.5688671900406,
          29.1239317798321,
          80.8359407620011,
          32.7406407743486,
          41.3298017811272,
          31.3076032925691,
          78.1371308717293,
          32.9865317608815,
          39.2500901637354,
          16.2944424602455,
          55.4798777251035,
          62.7827870392596,
          52.7276731193447,
          56.5735047873406,
          64.8208717116254,
          37.5380558840487,
          53.0657138519978,
          41.4028446291377,
          55.0151007084511,
          28.4439959929935,
          35.4101141756223,
          42.8796162282202,
          16.6135328208674,
          56.1311486282786,
          39.8482800128509,
          59.9038248182433,
          23.437812883282,
          39.9922208182829,
          46.6404410243112,
          87.3260393551554,
          26.9031025901011,
          42.3945813391634,
          55.4760663048723,
          25.7146596837661
         ],
         "xaxis": "x",
         "xbins": {
          "end": 100,
          "size": 5,
          "start": 0
         },
         "yaxis": "y"
        },
        {
         "marker": {
          "color": [
           "red",
           "grey",
           "grey",
           "grey",
           "grey",
           "grey",
           "grey",
           "grey",
           "grey",
           "grey",
           "grey",
           "grey",
           "grey",
           "grey",
           "grey",
           "grey",
           "grey",
           "grey",
           "grey",
           "grey"
          ]
         },
         "type": "histogram",
         "x": [
          0,
          0,
          61.2806463969254,
          6.91145691145691,
          1.87338501291989,
          88.3148634892821,
          30.8500506585612,
          0,
          90.9938215170773,
          8.53118075340296,
          0,
          71.4743019975578,
          75.4977096546864,
          59.5334181962089,
          79.0942475244801,
          0,
          0,
          86.804735221364,
          19.3657398234374,
          3.78378378378378,
          13.1046162441511,
          0,
          0,
          85.0989449240244,
          0,
          93.5233277675138,
          0,
          48.7623141111513,
          27.0251276646625,
          74.6886950375322,
          34.4582425977775,
          49.5273613004189,
          0,
          0.93189964157706,
          59.0166964004173,
          46.2286176239664,
          0,
          79.9122007842938,
          0,
          29.3330645656226,
          53.5629286792077,
          25.2625881695648,
          0,
          35.3476203476203,
          4.15770609318996,
          0,
          40.7093774535635,
          8.78484192437681,
          41.5453296848645,
          0,
          0,
          44.6646646646646,
          91.2984766881743,
          0,
          0,
          18.8745722466652,
          0
         ],
         "xaxis": "x2",
         "xbins": {
          "end": 100,
          "size": 5,
          "start": 0
         },
         "yaxis": "y2"
        },
        {
         "marker": {
          "color": [
           "grey",
           "grey",
           "grey",
           "grey",
           "grey",
           "grey",
           "grey",
           "grey",
           "grey",
           "yellow",
           "grey",
           "grey",
           "grey",
           "grey",
           "grey",
           "grey",
           "grey",
           "grey",
           "grey",
           "grey"
          ]
         },
         "type": "histogram",
         "x": [
          28.993452834986,
          44.1679379608441,
          17.4914187643021,
          27.9923086702263,
          16.2900457665904,
          52.4324502728393,
          34.1373203816801,
          11.4019196542079,
          69.3572874493927,
          52.5461380724538,
          14.4053521484871,
          62.407464452659,
          59.688056489909,
          70.9842995169082,
          92.1303223219699,
          33.5889108503494,
          3.81578947368421,
          96.8447761097489,
          46.2021886554017,
          26.6336130180524,
          52.9171311780008,
          45.8841851004322,
          44.0535214848716,
          72.2695561815822,
          47.1890307606649,
          80.0232011187389,
          23.9651103233923,
          32.9948512585812,
          28.8472540045766,
          78.7360157640478,
          16.1470251716247,
          58.3091733941863,
          38.9619883040935,
          49.1282761843465,
          65.9213704551233,
          48.0437960844139,
          64.9819386810759,
          70.9842995169082,
          22.5543478260869,
          63.5110455905651,
          38.8761759471142,
          48.4156496313247,
          36.5592423086702,
          22.5257437070938,
          54.4265640311108,
          12.1710526315789,
          33.1124459699974,
          45.8373672475503,
          46.4500332492323,
          25.6038647342995,
          46.8582456974482,
          50.3464276633613,
          83.8219708376072,
          59.2057664398791,
          64.0048944825833,
          64.0907068395626,
          46.7636001769128
         ],
         "xaxis": "x3",
         "xbins": {
          "end": 100,
          "size": 5,
          "start": 0
         },
         "yaxis": "y3"
        },
        {
         "marker": {
          "color": [
           "grey",
           "grey",
           "grey",
           "red",
           "grey",
           "grey",
           "grey",
           "grey",
           "grey",
           "grey",
           "grey",
           "grey",
           "grey",
           "grey",
           "grey",
           "grey",
           "grey",
           "grey",
           "grey",
           "grey"
          ]
         },
         "type": "histogram",
         "x": [
          22.175697865353,
          22.9909365558912,
          45.5740436826323,
          74.4153446389496,
          69.1435185185185,
          46.4642857142856,
          41.0866013071895,
          7.26984126984127,
          79.8558764721519,
          78.566316430638,
          22.0805369127516,
          68.3860658357302,
          25.5254361799816,
          63.032004748208,
          71.3541523992147,
          9.52991452991453,
          18.0913978494623,
          67.3477875124764,
          49.028070380774,
          23.1550844742334,
          75.5845651590332,
          50.7148407148407,
          25.8663558663558,
          54.0514842769881,
          22.6061388410786,
          77.7160381368798,
          57.9276279276279,
          46.1384507456033,
          34.6699742685793,
          78.6659366018083,
          46.7650462962963,
          20.0725718725718,
          2.04129204129204,
          77.2078457845784,
          61.2622549019607,
          58.6326637085663,
          66.4451009354997,
          55.0888006209195,
          61.4523816759867,
          51.3650062808979,
          39.8884507456033,
          69.5137242685793,
          30.1243201243201,
          46.308997386336,
          44.7454333462884,
          25.3490203825269,
          80.1956955587973,
          44.1098599967582,
          76.7723529054218,
          28.6400462962963,
          46.1919104991394,
          44.1036741036741,
          89.093299347846,
          7.69622833843017,
          36.8642468642468,
          59.1819291819292,
          15.6543967280163
         ],
         "xaxis": "x4",
         "xbins": {
          "end": 100,
          "size": 5,
          "start": 0
         },
         "yaxis": "y4"
        }
       ],
       "layout": {
        "annotations": [
         {
          "font": {
           "size": 16
          },
          "showarrow": false,
          "text": "ESG Score (25)",
          "x": 0.225,
          "xanchor": "center",
          "xref": "paper",
          "y": 1,
          "yanchor": "bottom",
          "yref": "paper"
         },
         {
          "font": {
           "size": 16
          },
          "showarrow": false,
          "text": "Environment Pillar Score (0)",
          "x": 0.775,
          "xanchor": "center",
          "xref": "paper",
          "y": 1,
          "yanchor": "bottom",
          "yref": "paper"
         },
         {
          "font": {
           "size": 16
          },
          "showarrow": false,
          "text": "Social Pillar Score (46)",
          "x": 0.225,
          "xanchor": "center",
          "xref": "paper",
          "y": 0.375,
          "yanchor": "bottom",
          "yref": "paper"
         },
         {
          "font": {
           "size": 16
          },
          "showarrow": false,
          "text": "Governance Pillar Score (15)",
          "x": 0.775,
          "xanchor": "center",
          "xref": "paper",
          "y": 0.375,
          "yanchor": "bottom",
          "yref": "paper"
         }
        ],
        "bargap": 0.2,
        "showlegend": false,
        "template": {
         "data": {
          "bar": [
           {
            "error_x": {
             "color": "#2a3f5f"
            },
            "error_y": {
             "color": "#2a3f5f"
            },
            "marker": {
             "line": {
              "color": "#E5ECF6",
              "width": 0.5
             }
            },
            "type": "bar"
           }
          ],
          "barpolar": [
           {
            "marker": {
             "line": {
              "color": "#E5ECF6",
              "width": 0.5
             }
            },
            "type": "barpolar"
           }
          ],
          "carpet": [
           {
            "aaxis": {
             "endlinecolor": "#2a3f5f",
             "gridcolor": "white",
             "linecolor": "white",
             "minorgridcolor": "white",
             "startlinecolor": "#2a3f5f"
            },
            "baxis": {
             "endlinecolor": "#2a3f5f",
             "gridcolor": "white",
             "linecolor": "white",
             "minorgridcolor": "white",
             "startlinecolor": "#2a3f5f"
            },
            "type": "carpet"
           }
          ],
          "choropleth": [
           {
            "colorbar": {
             "outlinewidth": 0,
             "ticks": ""
            },
            "type": "choropleth"
           }
          ],
          "contour": [
           {
            "colorbar": {
             "outlinewidth": 0,
             "ticks": ""
            },
            "colorscale": [
             [
              0,
              "#0d0887"
             ],
             [
              0.1111111111111111,
              "#46039f"
             ],
             [
              0.2222222222222222,
              "#7201a8"
             ],
             [
              0.3333333333333333,
              "#9c179e"
             ],
             [
              0.4444444444444444,
              "#bd3786"
             ],
             [
              0.5555555555555556,
              "#d8576b"
             ],
             [
              0.6666666666666666,
              "#ed7953"
             ],
             [
              0.7777777777777778,
              "#fb9f3a"
             ],
             [
              0.8888888888888888,
              "#fdca26"
             ],
             [
              1,
              "#f0f921"
             ]
            ],
            "type": "contour"
           }
          ],
          "contourcarpet": [
           {
            "colorbar": {
             "outlinewidth": 0,
             "ticks": ""
            },
            "type": "contourcarpet"
           }
          ],
          "heatmap": [
           {
            "colorbar": {
             "outlinewidth": 0,
             "ticks": ""
            },
            "colorscale": [
             [
              0,
              "#0d0887"
             ],
             [
              0.1111111111111111,
              "#46039f"
             ],
             [
              0.2222222222222222,
              "#7201a8"
             ],
             [
              0.3333333333333333,
              "#9c179e"
             ],
             [
              0.4444444444444444,
              "#bd3786"
             ],
             [
              0.5555555555555556,
              "#d8576b"
             ],
             [
              0.6666666666666666,
              "#ed7953"
             ],
             [
              0.7777777777777778,
              "#fb9f3a"
             ],
             [
              0.8888888888888888,
              "#fdca26"
             ],
             [
              1,
              "#f0f921"
             ]
            ],
            "type": "heatmap"
           }
          ],
          "heatmapgl": [
           {
            "colorbar": {
             "outlinewidth": 0,
             "ticks": ""
            },
            "colorscale": [
             [
              0,
              "#0d0887"
             ],
             [
              0.1111111111111111,
              "#46039f"
             ],
             [
              0.2222222222222222,
              "#7201a8"
             ],
             [
              0.3333333333333333,
              "#9c179e"
             ],
             [
              0.4444444444444444,
              "#bd3786"
             ],
             [
              0.5555555555555556,
              "#d8576b"
             ],
             [
              0.6666666666666666,
              "#ed7953"
             ],
             [
              0.7777777777777778,
              "#fb9f3a"
             ],
             [
              0.8888888888888888,
              "#fdca26"
             ],
             [
              1,
              "#f0f921"
             ]
            ],
            "type": "heatmapgl"
           }
          ],
          "histogram": [
           {
            "marker": {
             "colorbar": {
              "outlinewidth": 0,
              "ticks": ""
             }
            },
            "type": "histogram"
           }
          ],
          "histogram2d": [
           {
            "colorbar": {
             "outlinewidth": 0,
             "ticks": ""
            },
            "colorscale": [
             [
              0,
              "#0d0887"
             ],
             [
              0.1111111111111111,
              "#46039f"
             ],
             [
              0.2222222222222222,
              "#7201a8"
             ],
             [
              0.3333333333333333,
              "#9c179e"
             ],
             [
              0.4444444444444444,
              "#bd3786"
             ],
             [
              0.5555555555555556,
              "#d8576b"
             ],
             [
              0.6666666666666666,
              "#ed7953"
             ],
             [
              0.7777777777777778,
              "#fb9f3a"
             ],
             [
              0.8888888888888888,
              "#fdca26"
             ],
             [
              1,
              "#f0f921"
             ]
            ],
            "type": "histogram2d"
           }
          ],
          "histogram2dcontour": [
           {
            "colorbar": {
             "outlinewidth": 0,
             "ticks": ""
            },
            "colorscale": [
             [
              0,
              "#0d0887"
             ],
             [
              0.1111111111111111,
              "#46039f"
             ],
             [
              0.2222222222222222,
              "#7201a8"
             ],
             [
              0.3333333333333333,
              "#9c179e"
             ],
             [
              0.4444444444444444,
              "#bd3786"
             ],
             [
              0.5555555555555556,
              "#d8576b"
             ],
             [
              0.6666666666666666,
              "#ed7953"
             ],
             [
              0.7777777777777778,
              "#fb9f3a"
             ],
             [
              0.8888888888888888,
              "#fdca26"
             ],
             [
              1,
              "#f0f921"
             ]
            ],
            "type": "histogram2dcontour"
           }
          ],
          "mesh3d": [
           {
            "colorbar": {
             "outlinewidth": 0,
             "ticks": ""
            },
            "type": "mesh3d"
           }
          ],
          "parcoords": [
           {
            "line": {
             "colorbar": {
              "outlinewidth": 0,
              "ticks": ""
             }
            },
            "type": "parcoords"
           }
          ],
          "pie": [
           {
            "automargin": true,
            "type": "pie"
           }
          ],
          "scatter": [
           {
            "marker": {
             "colorbar": {
              "outlinewidth": 0,
              "ticks": ""
             }
            },
            "type": "scatter"
           }
          ],
          "scatter3d": [
           {
            "line": {
             "colorbar": {
              "outlinewidth": 0,
              "ticks": ""
             }
            },
            "marker": {
             "colorbar": {
              "outlinewidth": 0,
              "ticks": ""
             }
            },
            "type": "scatter3d"
           }
          ],
          "scattercarpet": [
           {
            "marker": {
             "colorbar": {
              "outlinewidth": 0,
              "ticks": ""
             }
            },
            "type": "scattercarpet"
           }
          ],
          "scattergeo": [
           {
            "marker": {
             "colorbar": {
              "outlinewidth": 0,
              "ticks": ""
             }
            },
            "type": "scattergeo"
           }
          ],
          "scattergl": [
           {
            "marker": {
             "colorbar": {
              "outlinewidth": 0,
              "ticks": ""
             }
            },
            "type": "scattergl"
           }
          ],
          "scattermapbox": [
           {
            "marker": {
             "colorbar": {
              "outlinewidth": 0,
              "ticks": ""
             }
            },
            "type": "scattermapbox"
           }
          ],
          "scatterpolar": [
           {
            "marker": {
             "colorbar": {
              "outlinewidth": 0,
              "ticks": ""
             }
            },
            "type": "scatterpolar"
           }
          ],
          "scatterpolargl": [
           {
            "marker": {
             "colorbar": {
              "outlinewidth": 0,
              "ticks": ""
             }
            },
            "type": "scatterpolargl"
           }
          ],
          "scatterternary": [
           {
            "marker": {
             "colorbar": {
              "outlinewidth": 0,
              "ticks": ""
             }
            },
            "type": "scatterternary"
           }
          ],
          "surface": [
           {
            "colorbar": {
             "outlinewidth": 0,
             "ticks": ""
            },
            "colorscale": [
             [
              0,
              "#0d0887"
             ],
             [
              0.1111111111111111,
              "#46039f"
             ],
             [
              0.2222222222222222,
              "#7201a8"
             ],
             [
              0.3333333333333333,
              "#9c179e"
             ],
             [
              0.4444444444444444,
              "#bd3786"
             ],
             [
              0.5555555555555556,
              "#d8576b"
             ],
             [
              0.6666666666666666,
              "#ed7953"
             ],
             [
              0.7777777777777778,
              "#fb9f3a"
             ],
             [
              0.8888888888888888,
              "#fdca26"
             ],
             [
              1,
              "#f0f921"
             ]
            ],
            "type": "surface"
           }
          ],
          "table": [
           {
            "cells": {
             "fill": {
              "color": "#EBF0F8"
             },
             "line": {
              "color": "white"
             }
            },
            "header": {
             "fill": {
              "color": "#C8D4E3"
             },
             "line": {
              "color": "white"
             }
            },
            "type": "table"
           }
          ]
         },
         "layout": {
          "annotationdefaults": {
           "arrowcolor": "#2a3f5f",
           "arrowhead": 0,
           "arrowwidth": 1
          },
          "coloraxis": {
           "colorbar": {
            "outlinewidth": 0,
            "ticks": ""
           }
          },
          "colorscale": {
           "diverging": [
            [
             0,
             "#8e0152"
            ],
            [
             0.1,
             "#c51b7d"
            ],
            [
             0.2,
             "#de77ae"
            ],
            [
             0.3,
             "#f1b6da"
            ],
            [
             0.4,
             "#fde0ef"
            ],
            [
             0.5,
             "#f7f7f7"
            ],
            [
             0.6,
             "#e6f5d0"
            ],
            [
             0.7,
             "#b8e186"
            ],
            [
             0.8,
             "#7fbc41"
            ],
            [
             0.9,
             "#4d9221"
            ],
            [
             1,
             "#276419"
            ]
           ],
           "sequential": [
            [
             0,
             "#0d0887"
            ],
            [
             0.1111111111111111,
             "#46039f"
            ],
            [
             0.2222222222222222,
             "#7201a8"
            ],
            [
             0.3333333333333333,
             "#9c179e"
            ],
            [
             0.4444444444444444,
             "#bd3786"
            ],
            [
             0.5555555555555556,
             "#d8576b"
            ],
            [
             0.6666666666666666,
             "#ed7953"
            ],
            [
             0.7777777777777778,
             "#fb9f3a"
            ],
            [
             0.8888888888888888,
             "#fdca26"
            ],
            [
             1,
             "#f0f921"
            ]
           ],
           "sequentialminus": [
            [
             0,
             "#0d0887"
            ],
            [
             0.1111111111111111,
             "#46039f"
            ],
            [
             0.2222222222222222,
             "#7201a8"
            ],
            [
             0.3333333333333333,
             "#9c179e"
            ],
            [
             0.4444444444444444,
             "#bd3786"
            ],
            [
             0.5555555555555556,
             "#d8576b"
            ],
            [
             0.6666666666666666,
             "#ed7953"
            ],
            [
             0.7777777777777778,
             "#fb9f3a"
            ],
            [
             0.8888888888888888,
             "#fdca26"
            ],
            [
             1,
             "#f0f921"
            ]
           ]
          },
          "colorway": [
           "#636efa",
           "#EF553B",
           "#00cc96",
           "#ab63fa",
           "#FFA15A",
           "#19d3f3",
           "#FF6692",
           "#B6E880",
           "#FF97FF",
           "#FECB52"
          ],
          "font": {
           "color": "#2a3f5f"
          },
          "geo": {
           "bgcolor": "white",
           "lakecolor": "white",
           "landcolor": "#E5ECF6",
           "showlakes": true,
           "showland": true,
           "subunitcolor": "white"
          },
          "hoverlabel": {
           "align": "left"
          },
          "hovermode": "closest",
          "mapbox": {
           "style": "light"
          },
          "paper_bgcolor": "white",
          "plot_bgcolor": "#E5ECF6",
          "polar": {
           "angularaxis": {
            "gridcolor": "white",
            "linecolor": "white",
            "ticks": ""
           },
           "bgcolor": "#E5ECF6",
           "radialaxis": {
            "gridcolor": "white",
            "linecolor": "white",
            "ticks": ""
           }
          },
          "scene": {
           "xaxis": {
            "backgroundcolor": "#E5ECF6",
            "gridcolor": "white",
            "gridwidth": 2,
            "linecolor": "white",
            "showbackground": true,
            "ticks": "",
            "zerolinecolor": "white"
           },
           "yaxis": {
            "backgroundcolor": "#E5ECF6",
            "gridcolor": "white",
            "gridwidth": 2,
            "linecolor": "white",
            "showbackground": true,
            "ticks": "",
            "zerolinecolor": "white"
           },
           "zaxis": {
            "backgroundcolor": "#E5ECF6",
            "gridcolor": "white",
            "gridwidth": 2,
            "linecolor": "white",
            "showbackground": true,
            "ticks": "",
            "zerolinecolor": "white"
           }
          },
          "shapedefaults": {
           "line": {
            "color": "#2a3f5f"
           }
          },
          "ternary": {
           "aaxis": {
            "gridcolor": "white",
            "linecolor": "white",
            "ticks": ""
           },
           "baxis": {
            "gridcolor": "white",
            "linecolor": "white",
            "ticks": ""
           },
           "bgcolor": "#E5ECF6",
           "caxis": {
            "gridcolor": "white",
            "linecolor": "white",
            "ticks": ""
           }
          },
          "title": {
           "x": 0.05
          },
          "xaxis": {
           "automargin": true,
           "gridcolor": "white",
           "linecolor": "white",
           "ticks": "",
           "title": {
            "standoff": 15
           },
           "zerolinecolor": "white",
           "zerolinewidth": 2
          },
          "yaxis": {
           "automargin": true,
           "gridcolor": "white",
           "linecolor": "white",
           "ticks": "",
           "title": {
            "standoff": 15
           },
           "zerolinecolor": "white",
           "zerolinewidth": 2
          }
         }
        },
        "title": {
         "text": "Canaccord Genuity Group Inc<br>Investment Banking & Brokerage Services - NEC"
        },
        "xaxis": {
         "anchor": "y",
         "domain": [
          0,
          0.45
         ]
        },
        "xaxis2": {
         "anchor": "y2",
         "domain": [
          0.55,
          1
         ]
        },
        "xaxis3": {
         "anchor": "y3",
         "domain": [
          0,
          0.45
         ]
        },
        "xaxis4": {
         "anchor": "y4",
         "domain": [
          0.55,
          1
         ]
        },
        "yaxis": {
         "anchor": "x",
         "domain": [
          0.625,
          1
         ]
        },
        "yaxis2": {
         "anchor": "x2",
         "domain": [
          0.625,
          1
         ]
        },
        "yaxis3": {
         "anchor": "x3",
         "domain": [
          0,
          0.375
         ]
        },
        "yaxis4": {
         "anchor": "x4",
         "domain": [
          0,
          0.375
         ]
        }
       }
      },
      "text/html": [
       "<div>                            <div id=\"45d49648-d27e-48d6-8a62-d88f9c40d7ae\" class=\"plotly-graph-div\" style=\"height:525px; width:100%;\"></div>            <script type=\"text/javascript\">                require([\"plotly\"], function(Plotly) {                    window.PLOTLYENV=window.PLOTLYENV || {};                                    if (document.getElementById(\"45d49648-d27e-48d6-8a62-d88f9c40d7ae\")) {                    Plotly.newPlot(                        \"45d49648-d27e-48d6-8a62-d88f9c40d7ae\",                        [{\"marker\": {\"color\": [\"grey\", \"grey\", \"grey\", \"grey\", \"grey\", \"red\", \"grey\", \"grey\", \"grey\", \"grey\", \"grey\", \"grey\", \"grey\", \"grey\", \"grey\", \"grey\", \"grey\", \"grey\", \"grey\", \"grey\"]}, \"type\": \"histogram\", \"x\": [21.7581099654959, 28.113718005463, 36.7128974623878, 46.691221829285, 38.9199043537636, 54.6691878198555, 36.9180405929321, 7.87995651816332, 77.2798751793192, 58.5223671119471, 15.9691973338481, 66.4638309717713, 45.9690140420101, 65.6740387664321, 80.6182533448705, 17.6707229653827, 9.93899381581146, 81.6851384012467, 43.7656354783057, 21.8148930270215, 57.9178107379955, 41.7177913573498, 29.4095319213589, 65.5688671900406, 29.1239317798321, 80.8359407620011, 32.7406407743486, 41.3298017811272, 31.3076032925691, 78.1371308717293, 32.9865317608815, 39.2500901637354, 16.2944424602455, 55.4798777251035, 62.7827870392596, 52.7276731193447, 56.5735047873406, 64.8208717116254, 37.5380558840487, 53.0657138519978, 41.4028446291377, 55.0151007084511, 28.4439959929935, 35.4101141756223, 42.8796162282202, 16.6135328208674, 56.1311486282786, 39.8482800128509, 59.9038248182433, 23.437812883282, 39.9922208182829, 46.6404410243112, 87.3260393551554, 26.9031025901011, 42.3945813391634, 55.4760663048723, 25.7146596837661], \"xaxis\": \"x\", \"xbins\": {\"end\": 100, \"size\": 5, \"start\": 0}, \"yaxis\": \"y\"}, {\"marker\": {\"color\": [\"red\", \"grey\", \"grey\", \"grey\", \"grey\", \"grey\", \"grey\", \"grey\", \"grey\", \"grey\", \"grey\", \"grey\", \"grey\", \"grey\", \"grey\", \"grey\", \"grey\", \"grey\", \"grey\", \"grey\"]}, \"type\": \"histogram\", \"x\": [0.0, 0.0, 61.2806463969254, 6.91145691145691, 1.87338501291989, 88.3148634892821, 30.8500506585612, 0.0, 90.9938215170773, 8.53118075340296, 0.0, 71.4743019975578, 75.4977096546864, 59.5334181962089, 79.0942475244801, 0.0, 0.0, 86.804735221364, 19.3657398234374, 3.78378378378378, 13.1046162441511, 0.0, 0.0, 85.0989449240244, 0.0, 93.5233277675138, 0.0, 48.7623141111513, 27.0251276646625, 74.6886950375322, 34.4582425977775, 49.5273613004189, 0.0, 0.93189964157706, 59.0166964004173, 46.2286176239664, 0.0, 79.9122007842938, 0.0, 29.3330645656226, 53.5629286792077, 25.2625881695648, 0.0, 35.3476203476203, 4.15770609318996, 0.0, 40.7093774535635, 8.78484192437681, 41.5453296848645, 0.0, 0.0, 44.6646646646646, 91.2984766881743, 0.0, 0.0, 18.8745722466652, 0.0], \"xaxis\": \"x2\", \"xbins\": {\"end\": 100, \"size\": 5, \"start\": 0}, \"yaxis\": \"y2\"}, {\"marker\": {\"color\": [\"grey\", \"grey\", \"grey\", \"grey\", \"grey\", \"grey\", \"grey\", \"grey\", \"grey\", \"yellow\", \"grey\", \"grey\", \"grey\", \"grey\", \"grey\", \"grey\", \"grey\", \"grey\", \"grey\", \"grey\"]}, \"type\": \"histogram\", \"x\": [28.993452834986, 44.1679379608441, 17.4914187643021, 27.9923086702263, 16.2900457665904, 52.4324502728393, 34.1373203816801, 11.4019196542079, 69.3572874493927, 52.5461380724538, 14.4053521484871, 62.407464452659, 59.688056489909, 70.9842995169082, 92.1303223219699, 33.5889108503494, 3.81578947368421, 96.8447761097489, 46.2021886554017, 26.6336130180524, 52.9171311780008, 45.8841851004322, 44.0535214848716, 72.2695561815822, 47.1890307606649, 80.0232011187389, 23.9651103233923, 32.9948512585812, 28.8472540045766, 78.7360157640478, 16.1470251716247, 58.3091733941863, 38.9619883040935, 49.1282761843465, 65.9213704551233, 48.0437960844139, 64.9819386810759, 70.9842995169082, 22.5543478260869, 63.5110455905651, 38.8761759471142, 48.4156496313247, 36.5592423086702, 22.5257437070938, 54.4265640311108, 12.1710526315789, 33.1124459699974, 45.8373672475503, 46.4500332492323, 25.6038647342995, 46.8582456974482, 50.3464276633613, 83.8219708376072, 59.2057664398791, 64.0048944825833, 64.0907068395626, 46.7636001769128], \"xaxis\": \"x3\", \"xbins\": {\"end\": 100, \"size\": 5, \"start\": 0}, \"yaxis\": \"y3\"}, {\"marker\": {\"color\": [\"grey\", \"grey\", \"grey\", \"red\", \"grey\", \"grey\", \"grey\", \"grey\", \"grey\", \"grey\", \"grey\", \"grey\", \"grey\", \"grey\", \"grey\", \"grey\", \"grey\", \"grey\", \"grey\", \"grey\"]}, \"type\": \"histogram\", \"x\": [22.175697865353, 22.9909365558912, 45.5740436826323, 74.4153446389496, 69.1435185185185, 46.4642857142856, 41.0866013071895, 7.26984126984127, 79.8558764721519, 78.566316430638, 22.0805369127516, 68.3860658357302, 25.5254361799816, 63.032004748208, 71.3541523992147, 9.52991452991453, 18.0913978494623, 67.3477875124764, 49.028070380774, 23.1550844742334, 75.5845651590332, 50.7148407148407, 25.8663558663558, 54.0514842769881, 22.6061388410786, 77.7160381368798, 57.9276279276279, 46.1384507456033, 34.6699742685793, 78.6659366018083, 46.7650462962963, 20.0725718725718, 2.04129204129204, 77.2078457845784, 61.2622549019607, 58.6326637085663, 66.4451009354997, 55.0888006209195, 61.4523816759867, 51.3650062808979, 39.8884507456033, 69.5137242685793, 30.1243201243201, 46.308997386336, 44.7454333462884, 25.3490203825269, 80.1956955587973, 44.1098599967582, 76.7723529054218, 28.6400462962963, 46.1919104991394, 44.1036741036741, 89.093299347846, 7.69622833843017, 36.8642468642468, 59.1819291819292, 15.6543967280163], \"xaxis\": \"x4\", \"xbins\": {\"end\": 100, \"size\": 5, \"start\": 0}, \"yaxis\": \"y4\"}],                        {\"annotations\": [{\"font\": {\"size\": 16}, \"showarrow\": false, \"text\": \"ESG Score (25)\", \"x\": 0.225, \"xanchor\": \"center\", \"xref\": \"paper\", \"y\": 1.0, \"yanchor\": \"bottom\", \"yref\": \"paper\"}, {\"font\": {\"size\": 16}, \"showarrow\": false, \"text\": \"Environment Pillar Score (0)\", \"x\": 0.775, \"xanchor\": \"center\", \"xref\": \"paper\", \"y\": 1.0, \"yanchor\": \"bottom\", \"yref\": \"paper\"}, {\"font\": {\"size\": 16}, \"showarrow\": false, \"text\": \"Social Pillar Score (46)\", \"x\": 0.225, \"xanchor\": \"center\", \"xref\": \"paper\", \"y\": 0.375, \"yanchor\": \"bottom\", \"yref\": \"paper\"}, {\"font\": {\"size\": 16}, \"showarrow\": false, \"text\": \"Governance Pillar Score (15)\", \"x\": 0.775, \"xanchor\": \"center\", \"xref\": \"paper\", \"y\": 0.375, \"yanchor\": \"bottom\", \"yref\": \"paper\"}], \"bargap\": 0.2, \"showlegend\": false, \"template\": {\"data\": {\"bar\": [{\"error_x\": {\"color\": \"#2a3f5f\"}, \"error_y\": {\"color\": \"#2a3f5f\"}, \"marker\": {\"line\": {\"color\": \"#E5ECF6\", \"width\": 0.5}}, \"type\": \"bar\"}], \"barpolar\": [{\"marker\": {\"line\": {\"color\": \"#E5ECF6\", \"width\": 0.5}}, \"type\": \"barpolar\"}], \"carpet\": [{\"aaxis\": {\"endlinecolor\": \"#2a3f5f\", \"gridcolor\": \"white\", \"linecolor\": \"white\", \"minorgridcolor\": \"white\", \"startlinecolor\": \"#2a3f5f\"}, \"baxis\": {\"endlinecolor\": \"#2a3f5f\", \"gridcolor\": \"white\", \"linecolor\": \"white\", \"minorgridcolor\": \"white\", \"startlinecolor\": \"#2a3f5f\"}, \"type\": \"carpet\"}], \"choropleth\": [{\"colorbar\": {\"outlinewidth\": 0, \"ticks\": \"\"}, \"type\": \"choropleth\"}], \"contour\": [{\"colorbar\": {\"outlinewidth\": 0, \"ticks\": \"\"}, \"colorscale\": [[0.0, \"#0d0887\"], [0.1111111111111111, \"#46039f\"], [0.2222222222222222, \"#7201a8\"], [0.3333333333333333, \"#9c179e\"], [0.4444444444444444, \"#bd3786\"], [0.5555555555555556, \"#d8576b\"], [0.6666666666666666, \"#ed7953\"], [0.7777777777777778, \"#fb9f3a\"], [0.8888888888888888, \"#fdca26\"], [1.0, \"#f0f921\"]], \"type\": \"contour\"}], \"contourcarpet\": [{\"colorbar\": {\"outlinewidth\": 0, \"ticks\": \"\"}, \"type\": \"contourcarpet\"}], \"heatmap\": [{\"colorbar\": {\"outlinewidth\": 0, \"ticks\": \"\"}, \"colorscale\": [[0.0, \"#0d0887\"], [0.1111111111111111, \"#46039f\"], [0.2222222222222222, \"#7201a8\"], [0.3333333333333333, \"#9c179e\"], [0.4444444444444444, \"#bd3786\"], [0.5555555555555556, \"#d8576b\"], [0.6666666666666666, \"#ed7953\"], [0.7777777777777778, \"#fb9f3a\"], [0.8888888888888888, \"#fdca26\"], [1.0, \"#f0f921\"]], \"type\": \"heatmap\"}], \"heatmapgl\": [{\"colorbar\": {\"outlinewidth\": 0, \"ticks\": \"\"}, \"colorscale\": [[0.0, \"#0d0887\"], [0.1111111111111111, \"#46039f\"], [0.2222222222222222, \"#7201a8\"], [0.3333333333333333, \"#9c179e\"], [0.4444444444444444, \"#bd3786\"], [0.5555555555555556, \"#d8576b\"], [0.6666666666666666, \"#ed7953\"], [0.7777777777777778, \"#fb9f3a\"], [0.8888888888888888, \"#fdca26\"], [1.0, \"#f0f921\"]], \"type\": \"heatmapgl\"}], \"histogram\": [{\"marker\": {\"colorbar\": {\"outlinewidth\": 0, \"ticks\": \"\"}}, \"type\": \"histogram\"}], \"histogram2d\": [{\"colorbar\": {\"outlinewidth\": 0, \"ticks\": \"\"}, \"colorscale\": [[0.0, \"#0d0887\"], [0.1111111111111111, \"#46039f\"], [0.2222222222222222, \"#7201a8\"], [0.3333333333333333, \"#9c179e\"], [0.4444444444444444, \"#bd3786\"], [0.5555555555555556, \"#d8576b\"], [0.6666666666666666, \"#ed7953\"], [0.7777777777777778, \"#fb9f3a\"], [0.8888888888888888, \"#fdca26\"], [1.0, \"#f0f921\"]], \"type\": \"histogram2d\"}], \"histogram2dcontour\": [{\"colorbar\": {\"outlinewidth\": 0, \"ticks\": \"\"}, \"colorscale\": [[0.0, \"#0d0887\"], [0.1111111111111111, \"#46039f\"], [0.2222222222222222, \"#7201a8\"], [0.3333333333333333, \"#9c179e\"], [0.4444444444444444, \"#bd3786\"], [0.5555555555555556, \"#d8576b\"], [0.6666666666666666, \"#ed7953\"], [0.7777777777777778, \"#fb9f3a\"], [0.8888888888888888, \"#fdca26\"], [1.0, \"#f0f921\"]], \"type\": \"histogram2dcontour\"}], \"mesh3d\": [{\"colorbar\": {\"outlinewidth\": 0, \"ticks\": \"\"}, \"type\": \"mesh3d\"}], \"parcoords\": [{\"line\": {\"colorbar\": {\"outlinewidth\": 0, \"ticks\": \"\"}}, \"type\": \"parcoords\"}], \"pie\": [{\"automargin\": true, \"type\": \"pie\"}], \"scatter\": [{\"marker\": {\"colorbar\": {\"outlinewidth\": 0, \"ticks\": \"\"}}, \"type\": \"scatter\"}], \"scatter3d\": [{\"line\": {\"colorbar\": {\"outlinewidth\": 0, \"ticks\": \"\"}}, \"marker\": {\"colorbar\": {\"outlinewidth\": 0, \"ticks\": \"\"}}, \"type\": \"scatter3d\"}], \"scattercarpet\": [{\"marker\": {\"colorbar\": {\"outlinewidth\": 0, \"ticks\": \"\"}}, \"type\": \"scattercarpet\"}], \"scattergeo\": [{\"marker\": {\"colorbar\": {\"outlinewidth\": 0, \"ticks\": \"\"}}, \"type\": \"scattergeo\"}], \"scattergl\": [{\"marker\": {\"colorbar\": {\"outlinewidth\": 0, \"ticks\": \"\"}}, \"type\": \"scattergl\"}], \"scattermapbox\": [{\"marker\": {\"colorbar\": {\"outlinewidth\": 0, \"ticks\": \"\"}}, \"type\": \"scattermapbox\"}], \"scatterpolar\": [{\"marker\": {\"colorbar\": {\"outlinewidth\": 0, \"ticks\": \"\"}}, \"type\": \"scatterpolar\"}], \"scatterpolargl\": [{\"marker\": {\"colorbar\": {\"outlinewidth\": 0, \"ticks\": \"\"}}, \"type\": \"scatterpolargl\"}], \"scatterternary\": [{\"marker\": {\"colorbar\": {\"outlinewidth\": 0, \"ticks\": \"\"}}, \"type\": \"scatterternary\"}], \"surface\": [{\"colorbar\": {\"outlinewidth\": 0, \"ticks\": \"\"}, \"colorscale\": [[0.0, \"#0d0887\"], [0.1111111111111111, \"#46039f\"], [0.2222222222222222, \"#7201a8\"], [0.3333333333333333, \"#9c179e\"], [0.4444444444444444, \"#bd3786\"], [0.5555555555555556, \"#d8576b\"], [0.6666666666666666, \"#ed7953\"], [0.7777777777777778, \"#fb9f3a\"], [0.8888888888888888, \"#fdca26\"], [1.0, \"#f0f921\"]], \"type\": \"surface\"}], \"table\": [{\"cells\": {\"fill\": {\"color\": \"#EBF0F8\"}, \"line\": {\"color\": \"white\"}}, \"header\": {\"fill\": {\"color\": \"#C8D4E3\"}, \"line\": {\"color\": \"white\"}}, \"type\": \"table\"}]}, \"layout\": {\"annotationdefaults\": {\"arrowcolor\": \"#2a3f5f\", \"arrowhead\": 0, \"arrowwidth\": 1}, \"coloraxis\": {\"colorbar\": {\"outlinewidth\": 0, \"ticks\": \"\"}}, \"colorscale\": {\"diverging\": [[0, \"#8e0152\"], [0.1, \"#c51b7d\"], [0.2, \"#de77ae\"], [0.3, \"#f1b6da\"], [0.4, \"#fde0ef\"], [0.5, \"#f7f7f7\"], [0.6, \"#e6f5d0\"], [0.7, \"#b8e186\"], [0.8, \"#7fbc41\"], [0.9, \"#4d9221\"], [1, \"#276419\"]], \"sequential\": [[0.0, \"#0d0887\"], [0.1111111111111111, \"#46039f\"], [0.2222222222222222, \"#7201a8\"], [0.3333333333333333, \"#9c179e\"], [0.4444444444444444, \"#bd3786\"], [0.5555555555555556, \"#d8576b\"], [0.6666666666666666, \"#ed7953\"], [0.7777777777777778, \"#fb9f3a\"], [0.8888888888888888, \"#fdca26\"], [1.0, \"#f0f921\"]], \"sequentialminus\": [[0.0, \"#0d0887\"], [0.1111111111111111, \"#46039f\"], [0.2222222222222222, \"#7201a8\"], [0.3333333333333333, \"#9c179e\"], [0.4444444444444444, \"#bd3786\"], [0.5555555555555556, \"#d8576b\"], [0.6666666666666666, \"#ed7953\"], [0.7777777777777778, \"#fb9f3a\"], [0.8888888888888888, \"#fdca26\"], [1.0, \"#f0f921\"]]}, \"colorway\": [\"#636efa\", \"#EF553B\", \"#00cc96\", \"#ab63fa\", \"#FFA15A\", \"#19d3f3\", \"#FF6692\", \"#B6E880\", \"#FF97FF\", \"#FECB52\"], \"font\": {\"color\": \"#2a3f5f\"}, \"geo\": {\"bgcolor\": \"white\", \"lakecolor\": \"white\", \"landcolor\": \"#E5ECF6\", \"showlakes\": true, \"showland\": true, \"subunitcolor\": \"white\"}, \"hoverlabel\": {\"align\": \"left\"}, \"hovermode\": \"closest\", \"mapbox\": {\"style\": \"light\"}, \"paper_bgcolor\": \"white\", \"plot_bgcolor\": \"#E5ECF6\", \"polar\": {\"angularaxis\": {\"gridcolor\": \"white\", \"linecolor\": \"white\", \"ticks\": \"\"}, \"bgcolor\": \"#E5ECF6\", \"radialaxis\": {\"gridcolor\": \"white\", \"linecolor\": \"white\", \"ticks\": \"\"}}, \"scene\": {\"xaxis\": {\"backgroundcolor\": \"#E5ECF6\", \"gridcolor\": \"white\", \"gridwidth\": 2, \"linecolor\": \"white\", \"showbackground\": true, \"ticks\": \"\", \"zerolinecolor\": \"white\"}, \"yaxis\": {\"backgroundcolor\": \"#E5ECF6\", \"gridcolor\": \"white\", \"gridwidth\": 2, \"linecolor\": \"white\", \"showbackground\": true, \"ticks\": \"\", \"zerolinecolor\": \"white\"}, \"zaxis\": {\"backgroundcolor\": \"#E5ECF6\", \"gridcolor\": \"white\", \"gridwidth\": 2, \"linecolor\": \"white\", \"showbackground\": true, \"ticks\": \"\", \"zerolinecolor\": \"white\"}}, \"shapedefaults\": {\"line\": {\"color\": \"#2a3f5f\"}}, \"ternary\": {\"aaxis\": {\"gridcolor\": \"white\", \"linecolor\": \"white\", \"ticks\": \"\"}, \"baxis\": {\"gridcolor\": \"white\", \"linecolor\": \"white\", \"ticks\": \"\"}, \"bgcolor\": \"#E5ECF6\", \"caxis\": {\"gridcolor\": \"white\", \"linecolor\": \"white\", \"ticks\": \"\"}}, \"title\": {\"x\": 0.05}, \"xaxis\": {\"automargin\": true, \"gridcolor\": \"white\", \"linecolor\": \"white\", \"ticks\": \"\", \"title\": {\"standoff\": 15}, \"zerolinecolor\": \"white\", \"zerolinewidth\": 2}, \"yaxis\": {\"automargin\": true, \"gridcolor\": \"white\", \"linecolor\": \"white\", \"ticks\": \"\", \"title\": {\"standoff\": 15}, \"zerolinecolor\": \"white\", \"zerolinewidth\": 2}}}, \"title\": {\"text\": \"Canaccord Genuity Group Inc<br>Investment Banking & Brokerage Services - NEC\"}, \"xaxis\": {\"anchor\": \"y\", \"domain\": [0.0, 0.45]}, \"xaxis2\": {\"anchor\": \"y2\", \"domain\": [0.55, 1.0]}, \"xaxis3\": {\"anchor\": \"y3\", \"domain\": [0.0, 0.45]}, \"xaxis4\": {\"anchor\": \"y4\", \"domain\": [0.55, 1.0]}, \"yaxis\": {\"anchor\": \"x\", \"domain\": [0.625, 1.0]}, \"yaxis2\": {\"anchor\": \"x2\", \"domain\": [0.625, 1.0]}, \"yaxis3\": {\"anchor\": \"x3\", \"domain\": [0.0, 0.375]}, \"yaxis4\": {\"anchor\": \"x4\", \"domain\": [0.0, 0.375]}},                        {\"responsive\": true}                    ).then(function(){\n",
       "                            \n",
       "var gd = document.getElementById('45d49648-d27e-48d6-8a62-d88f9c40d7ae');\n",
       "var x = new MutationObserver(function (mutations, observer) {{\n",
       "        var display = window.getComputedStyle(gd).display;\n",
       "        if (!display || display === 'none') {{\n",
       "            console.log([gd, 'removed!']);\n",
       "            Plotly.purge(gd);\n",
       "            observer.disconnect();\n",
       "        }}\n",
       "}});\n",
       "\n",
       "// Listen for the removal of the full notebook cells\n",
       "var notebookContainer = gd.closest('#notebook-container');\n",
       "if (notebookContainer) {{\n",
       "    x.observe(notebookContainer, {childList: true});\n",
       "}}\n",
       "\n",
       "// Listen for the clearing of the current output cell\n",
       "var outputEl = gd.closest('.output');\n",
       "if (outputEl) {{\n",
       "    x.observe(outputEl, {childList: true});\n",
       "}}\n",
       "\n",
       "                        })                };                });            </script>        </div>"
      ]
     },
     "metadata": {},
     "output_type": "display_data"
    }
   ],
   "source": [
    "plotQuantilesV2('CF.TO')"
   ]
  },
  {
   "cell_type": "code",
   "execution_count": 7,
   "metadata": {},
   "outputs": [
    {
     "data": {
      "application/vnd.plotly.v1+json": {
       "config": {
        "plotlyServerURL": "https://plot.ly"
       },
       "data": [
        {
         "marker": {
          "color": [
           "grey",
           "grey",
           "grey",
           "grey",
           "grey",
           "grey",
           "grey",
           "grey",
           "grey",
           "grey",
           "grey",
           "grey",
           "grey",
           "green",
           "grey",
           "grey",
           "grey",
           "grey",
           "grey",
           "grey"
          ]
         },
         "type": "histogram",
         "x": [
          71.58397261828,
          81.2396186293553,
          0.622800994060565,
          45.6841933549277,
          88.381659288699,
          43.3802652186011,
          27.6887783762974,
          37.6675757226655,
          19.0852951765453,
          65.916603421829,
          63.1599442419566,
          83.4653623522671,
          77.0536379015146,
          69.446940574879,
          66.1177544305022,
          4.93746710648361,
          9.07527183031073,
          19.0067952357607,
          46.9132914357104,
          9.25563612921574,
          50.7714983312766,
          72.8710817279139,
          19.9024976653033,
          91.0368584907844
         ],
         "xaxis": "x",
         "xbins": {
          "end": 100,
          "size": 5,
          "start": 0
         },
         "yaxis": "y"
        },
        {
         "marker": {
          "color": [
           "grey",
           "grey",
           "grey",
           "grey",
           "grey",
           "grey",
           "grey",
           "grey",
           "grey",
           "grey",
           "yellow",
           "grey",
           "grey",
           "grey",
           "grey",
           "grey",
           "grey",
           "grey",
           "grey",
           "grey"
          ]
         },
         "type": "histogram",
         "x": [
          69.6821627791776,
          74.1716202537098,
          0,
          48.3194148306088,
          93.0319158896004,
          28.5778897719196,
          29.1859156597962,
          45.6149986000732,
          8.85238310611445,
          72.2976701987896,
          65.3033846198677,
          80.6823513127604,
          97.5336110495437,
          90.1872536667312,
          53.4567422627124,
          0,
          6.57857896663867,
          5.55555555555555,
          24.2416985951468,
          0,
          52.775701547338,
          78.2002724597138,
          4.10353535353535,
          86.212605802158
         ],
         "xaxis": "x2",
         "xbins": {
          "end": 100,
          "size": 5,
          "start": 0
         },
         "yaxis": "y2"
        },
        {
         "marker": {
          "color": [
           "grey",
           "grey",
           "grey",
           "grey",
           "grey",
           "grey",
           "grey",
           "grey",
           "grey",
           "grey",
           "grey",
           "grey",
           "grey",
           "grey",
           "grey",
           "green",
           "grey",
           "grey",
           "grey",
           "grey"
          ]
         },
         "type": "histogram",
         "x": [
          79.6418891268983,
          83.7776328109475,
          1.2150269276238,
          38.6229842172801,
          86.7566985123041,
          27.1086463943254,
          33.4377536568689,
          38.8237625754865,
          18.9515466964402,
          63.069612286002,
          76.2405617432975,
          85.2046408819759,
          80.9445265204329,
          73.8847412657835,
          78.5984437045943,
          6.65596676737161,
          14.5755341740006,
          21.1521188862578,
          52.2484561202958,
          12.3096731468102,
          54.1523800033518,
          69.6932311789724,
          21.6705799290687,
          92.0474782507654
         ],
         "xaxis": "x3",
         "xbins": {
          "end": 100,
          "size": 5,
          "start": 0
         },
         "yaxis": "y3"
        },
        {
         "marker": {
          "color": [
           "grey",
           "grey",
           "grey",
           "grey",
           "grey",
           "grey",
           "grey",
           "grey",
           "grey",
           "grey",
           "grey",
           "yellow",
           "grey",
           "grey",
           "grey",
           "grey",
           "grey",
           "grey",
           "grey",
           "grey"
          ]
         },
         "type": "histogram",
         "x": [
          59.0485312899105,
          85.0540906017579,
          0.281124497991967,
          55.5067066094513,
          85.7894736842105,
          91.0648148148148,
          15.3204868701589,
          26.0045691126444,
          31.6107382550335,
          63.4946236559139,
          36.5340136054421,
          83.6066356367108,
          41.7455487942303,
          36.3979424830488,
          58.3603682000475,
          7.7022977022977,
          1.95693195693195,
          31.2032710280373,
          64.3084277855107,
          14.7463647463647,
          42.1493887305759,
          72.3197669147524,
          35.6099456099456,
          94.9675442696162
         ],
         "xaxis": "x4",
         "xbins": {
          "end": 100,
          "size": 5,
          "start": 0
         },
         "yaxis": "y4"
        }
       ],
       "layout": {
        "annotations": [
         {
          "font": {
           "size": 16
          },
          "showarrow": false,
          "text": "ESG Score (66)",
          "x": 0.225,
          "xanchor": "center",
          "xref": "paper",
          "y": 1,
          "yanchor": "bottom",
          "yref": "paper"
         },
         {
          "font": {
           "size": 16
          },
          "showarrow": false,
          "text": "Environment Pillar Score (53)",
          "x": 0.775,
          "xanchor": "center",
          "xref": "paper",
          "y": 1,
          "yanchor": "bottom",
          "yref": "paper"
         },
         {
          "font": {
           "size": 16
          },
          "showarrow": false,
          "text": "Social Pillar Score (78)",
          "x": 0.225,
          "xanchor": "center",
          "xref": "paper",
          "y": 0.375,
          "yanchor": "bottom",
          "yref": "paper"
         },
         {
          "font": {
           "size": 16
          },
          "showarrow": false,
          "text": "Governance Pillar Score (58)",
          "x": 0.775,
          "xanchor": "center",
          "xref": "paper",
          "y": 0.375,
          "yanchor": "bottom",
          "yref": "paper"
         }
        ],
        "bargap": 0.2,
        "showlegend": false,
        "template": {
         "data": {
          "bar": [
           {
            "error_x": {
             "color": "#2a3f5f"
            },
            "error_y": {
             "color": "#2a3f5f"
            },
            "marker": {
             "line": {
              "color": "#E5ECF6",
              "width": 0.5
             }
            },
            "type": "bar"
           }
          ],
          "barpolar": [
           {
            "marker": {
             "line": {
              "color": "#E5ECF6",
              "width": 0.5
             }
            },
            "type": "barpolar"
           }
          ],
          "carpet": [
           {
            "aaxis": {
             "endlinecolor": "#2a3f5f",
             "gridcolor": "white",
             "linecolor": "white",
             "minorgridcolor": "white",
             "startlinecolor": "#2a3f5f"
            },
            "baxis": {
             "endlinecolor": "#2a3f5f",
             "gridcolor": "white",
             "linecolor": "white",
             "minorgridcolor": "white",
             "startlinecolor": "#2a3f5f"
            },
            "type": "carpet"
           }
          ],
          "choropleth": [
           {
            "colorbar": {
             "outlinewidth": 0,
             "ticks": ""
            },
            "type": "choropleth"
           }
          ],
          "contour": [
           {
            "colorbar": {
             "outlinewidth": 0,
             "ticks": ""
            },
            "colorscale": [
             [
              0,
              "#0d0887"
             ],
             [
              0.1111111111111111,
              "#46039f"
             ],
             [
              0.2222222222222222,
              "#7201a8"
             ],
             [
              0.3333333333333333,
              "#9c179e"
             ],
             [
              0.4444444444444444,
              "#bd3786"
             ],
             [
              0.5555555555555556,
              "#d8576b"
             ],
             [
              0.6666666666666666,
              "#ed7953"
             ],
             [
              0.7777777777777778,
              "#fb9f3a"
             ],
             [
              0.8888888888888888,
              "#fdca26"
             ],
             [
              1,
              "#f0f921"
             ]
            ],
            "type": "contour"
           }
          ],
          "contourcarpet": [
           {
            "colorbar": {
             "outlinewidth": 0,
             "ticks": ""
            },
            "type": "contourcarpet"
           }
          ],
          "heatmap": [
           {
            "colorbar": {
             "outlinewidth": 0,
             "ticks": ""
            },
            "colorscale": [
             [
              0,
              "#0d0887"
             ],
             [
              0.1111111111111111,
              "#46039f"
             ],
             [
              0.2222222222222222,
              "#7201a8"
             ],
             [
              0.3333333333333333,
              "#9c179e"
             ],
             [
              0.4444444444444444,
              "#bd3786"
             ],
             [
              0.5555555555555556,
              "#d8576b"
             ],
             [
              0.6666666666666666,
              "#ed7953"
             ],
             [
              0.7777777777777778,
              "#fb9f3a"
             ],
             [
              0.8888888888888888,
              "#fdca26"
             ],
             [
              1,
              "#f0f921"
             ]
            ],
            "type": "heatmap"
           }
          ],
          "heatmapgl": [
           {
            "colorbar": {
             "outlinewidth": 0,
             "ticks": ""
            },
            "colorscale": [
             [
              0,
              "#0d0887"
             ],
             [
              0.1111111111111111,
              "#46039f"
             ],
             [
              0.2222222222222222,
              "#7201a8"
             ],
             [
              0.3333333333333333,
              "#9c179e"
             ],
             [
              0.4444444444444444,
              "#bd3786"
             ],
             [
              0.5555555555555556,
              "#d8576b"
             ],
             [
              0.6666666666666666,
              "#ed7953"
             ],
             [
              0.7777777777777778,
              "#fb9f3a"
             ],
             [
              0.8888888888888888,
              "#fdca26"
             ],
             [
              1,
              "#f0f921"
             ]
            ],
            "type": "heatmapgl"
           }
          ],
          "histogram": [
           {
            "marker": {
             "colorbar": {
              "outlinewidth": 0,
              "ticks": ""
             }
            },
            "type": "histogram"
           }
          ],
          "histogram2d": [
           {
            "colorbar": {
             "outlinewidth": 0,
             "ticks": ""
            },
            "colorscale": [
             [
              0,
              "#0d0887"
             ],
             [
              0.1111111111111111,
              "#46039f"
             ],
             [
              0.2222222222222222,
              "#7201a8"
             ],
             [
              0.3333333333333333,
              "#9c179e"
             ],
             [
              0.4444444444444444,
              "#bd3786"
             ],
             [
              0.5555555555555556,
              "#d8576b"
             ],
             [
              0.6666666666666666,
              "#ed7953"
             ],
             [
              0.7777777777777778,
              "#fb9f3a"
             ],
             [
              0.8888888888888888,
              "#fdca26"
             ],
             [
              1,
              "#f0f921"
             ]
            ],
            "type": "histogram2d"
           }
          ],
          "histogram2dcontour": [
           {
            "colorbar": {
             "outlinewidth": 0,
             "ticks": ""
            },
            "colorscale": [
             [
              0,
              "#0d0887"
             ],
             [
              0.1111111111111111,
              "#46039f"
             ],
             [
              0.2222222222222222,
              "#7201a8"
             ],
             [
              0.3333333333333333,
              "#9c179e"
             ],
             [
              0.4444444444444444,
              "#bd3786"
             ],
             [
              0.5555555555555556,
              "#d8576b"
             ],
             [
              0.6666666666666666,
              "#ed7953"
             ],
             [
              0.7777777777777778,
              "#fb9f3a"
             ],
             [
              0.8888888888888888,
              "#fdca26"
             ],
             [
              1,
              "#f0f921"
             ]
            ],
            "type": "histogram2dcontour"
           }
          ],
          "mesh3d": [
           {
            "colorbar": {
             "outlinewidth": 0,
             "ticks": ""
            },
            "type": "mesh3d"
           }
          ],
          "parcoords": [
           {
            "line": {
             "colorbar": {
              "outlinewidth": 0,
              "ticks": ""
             }
            },
            "type": "parcoords"
           }
          ],
          "pie": [
           {
            "automargin": true,
            "type": "pie"
           }
          ],
          "scatter": [
           {
            "marker": {
             "colorbar": {
              "outlinewidth": 0,
              "ticks": ""
             }
            },
            "type": "scatter"
           }
          ],
          "scatter3d": [
           {
            "line": {
             "colorbar": {
              "outlinewidth": 0,
              "ticks": ""
             }
            },
            "marker": {
             "colorbar": {
              "outlinewidth": 0,
              "ticks": ""
             }
            },
            "type": "scatter3d"
           }
          ],
          "scattercarpet": [
           {
            "marker": {
             "colorbar": {
              "outlinewidth": 0,
              "ticks": ""
             }
            },
            "type": "scattercarpet"
           }
          ],
          "scattergeo": [
           {
            "marker": {
             "colorbar": {
              "outlinewidth": 0,
              "ticks": ""
             }
            },
            "type": "scattergeo"
           }
          ],
          "scattergl": [
           {
            "marker": {
             "colorbar": {
              "outlinewidth": 0,
              "ticks": ""
             }
            },
            "type": "scattergl"
           }
          ],
          "scattermapbox": [
           {
            "marker": {
             "colorbar": {
              "outlinewidth": 0,
              "ticks": ""
             }
            },
            "type": "scattermapbox"
           }
          ],
          "scatterpolar": [
           {
            "marker": {
             "colorbar": {
              "outlinewidth": 0,
              "ticks": ""
             }
            },
            "type": "scatterpolar"
           }
          ],
          "scatterpolargl": [
           {
            "marker": {
             "colorbar": {
              "outlinewidth": 0,
              "ticks": ""
             }
            },
            "type": "scatterpolargl"
           }
          ],
          "scatterternary": [
           {
            "marker": {
             "colorbar": {
              "outlinewidth": 0,
              "ticks": ""
             }
            },
            "type": "scatterternary"
           }
          ],
          "surface": [
           {
            "colorbar": {
             "outlinewidth": 0,
             "ticks": ""
            },
            "colorscale": [
             [
              0,
              "#0d0887"
             ],
             [
              0.1111111111111111,
              "#46039f"
             ],
             [
              0.2222222222222222,
              "#7201a8"
             ],
             [
              0.3333333333333333,
              "#9c179e"
             ],
             [
              0.4444444444444444,
              "#bd3786"
             ],
             [
              0.5555555555555556,
              "#d8576b"
             ],
             [
              0.6666666666666666,
              "#ed7953"
             ],
             [
              0.7777777777777778,
              "#fb9f3a"
             ],
             [
              0.8888888888888888,
              "#fdca26"
             ],
             [
              1,
              "#f0f921"
             ]
            ],
            "type": "surface"
           }
          ],
          "table": [
           {
            "cells": {
             "fill": {
              "color": "#EBF0F8"
             },
             "line": {
              "color": "white"
             }
            },
            "header": {
             "fill": {
              "color": "#C8D4E3"
             },
             "line": {
              "color": "white"
             }
            },
            "type": "table"
           }
          ]
         },
         "layout": {
          "annotationdefaults": {
           "arrowcolor": "#2a3f5f",
           "arrowhead": 0,
           "arrowwidth": 1
          },
          "coloraxis": {
           "colorbar": {
            "outlinewidth": 0,
            "ticks": ""
           }
          },
          "colorscale": {
           "diverging": [
            [
             0,
             "#8e0152"
            ],
            [
             0.1,
             "#c51b7d"
            ],
            [
             0.2,
             "#de77ae"
            ],
            [
             0.3,
             "#f1b6da"
            ],
            [
             0.4,
             "#fde0ef"
            ],
            [
             0.5,
             "#f7f7f7"
            ],
            [
             0.6,
             "#e6f5d0"
            ],
            [
             0.7,
             "#b8e186"
            ],
            [
             0.8,
             "#7fbc41"
            ],
            [
             0.9,
             "#4d9221"
            ],
            [
             1,
             "#276419"
            ]
           ],
           "sequential": [
            [
             0,
             "#0d0887"
            ],
            [
             0.1111111111111111,
             "#46039f"
            ],
            [
             0.2222222222222222,
             "#7201a8"
            ],
            [
             0.3333333333333333,
             "#9c179e"
            ],
            [
             0.4444444444444444,
             "#bd3786"
            ],
            [
             0.5555555555555556,
             "#d8576b"
            ],
            [
             0.6666666666666666,
             "#ed7953"
            ],
            [
             0.7777777777777778,
             "#fb9f3a"
            ],
            [
             0.8888888888888888,
             "#fdca26"
            ],
            [
             1,
             "#f0f921"
            ]
           ],
           "sequentialminus": [
            [
             0,
             "#0d0887"
            ],
            [
             0.1111111111111111,
             "#46039f"
            ],
            [
             0.2222222222222222,
             "#7201a8"
            ],
            [
             0.3333333333333333,
             "#9c179e"
            ],
            [
             0.4444444444444444,
             "#bd3786"
            ],
            [
             0.5555555555555556,
             "#d8576b"
            ],
            [
             0.6666666666666666,
             "#ed7953"
            ],
            [
             0.7777777777777778,
             "#fb9f3a"
            ],
            [
             0.8888888888888888,
             "#fdca26"
            ],
            [
             1,
             "#f0f921"
            ]
           ]
          },
          "colorway": [
           "#636efa",
           "#EF553B",
           "#00cc96",
           "#ab63fa",
           "#FFA15A",
           "#19d3f3",
           "#FF6692",
           "#B6E880",
           "#FF97FF",
           "#FECB52"
          ],
          "font": {
           "color": "#2a3f5f"
          },
          "geo": {
           "bgcolor": "white",
           "lakecolor": "white",
           "landcolor": "#E5ECF6",
           "showlakes": true,
           "showland": true,
           "subunitcolor": "white"
          },
          "hoverlabel": {
           "align": "left"
          },
          "hovermode": "closest",
          "mapbox": {
           "style": "light"
          },
          "paper_bgcolor": "white",
          "plot_bgcolor": "#E5ECF6",
          "polar": {
           "angularaxis": {
            "gridcolor": "white",
            "linecolor": "white",
            "ticks": ""
           },
           "bgcolor": "#E5ECF6",
           "radialaxis": {
            "gridcolor": "white",
            "linecolor": "white",
            "ticks": ""
           }
          },
          "scene": {
           "xaxis": {
            "backgroundcolor": "#E5ECF6",
            "gridcolor": "white",
            "gridwidth": 2,
            "linecolor": "white",
            "showbackground": true,
            "ticks": "",
            "zerolinecolor": "white"
           },
           "yaxis": {
            "backgroundcolor": "#E5ECF6",
            "gridcolor": "white",
            "gridwidth": 2,
            "linecolor": "white",
            "showbackground": true,
            "ticks": "",
            "zerolinecolor": "white"
           },
           "zaxis": {
            "backgroundcolor": "#E5ECF6",
            "gridcolor": "white",
            "gridwidth": 2,
            "linecolor": "white",
            "showbackground": true,
            "ticks": "",
            "zerolinecolor": "white"
           }
          },
          "shapedefaults": {
           "line": {
            "color": "#2a3f5f"
           }
          },
          "ternary": {
           "aaxis": {
            "gridcolor": "white",
            "linecolor": "white",
            "ticks": ""
           },
           "baxis": {
            "gridcolor": "white",
            "linecolor": "white",
            "ticks": ""
           },
           "bgcolor": "#E5ECF6",
           "caxis": {
            "gridcolor": "white",
            "linecolor": "white",
            "ticks": ""
           }
          },
          "title": {
           "x": 0.05
          },
          "xaxis": {
           "automargin": true,
           "gridcolor": "white",
           "linecolor": "white",
           "ticks": "",
           "title": {
            "standoff": 15
           },
           "zerolinecolor": "white",
           "zerolinewidth": 2
          },
          "yaxis": {
           "automargin": true,
           "gridcolor": "white",
           "linecolor": "white",
           "ticks": "",
           "title": {
            "standoff": 15
           },
           "zerolinecolor": "white",
           "zerolinewidth": 2
          }
         }
        },
        "title": {
         "text": "Coca-Cola Co<br>Non-Alcoholic Beverages - NEC"
        },
        "xaxis": {
         "anchor": "y",
         "domain": [
          0,
          0.45
         ]
        },
        "xaxis2": {
         "anchor": "y2",
         "domain": [
          0.55,
          1
         ]
        },
        "xaxis3": {
         "anchor": "y3",
         "domain": [
          0,
          0.45
         ]
        },
        "xaxis4": {
         "anchor": "y4",
         "domain": [
          0.55,
          1
         ]
        },
        "yaxis": {
         "anchor": "x",
         "domain": [
          0.625,
          1
         ]
        },
        "yaxis2": {
         "anchor": "x2",
         "domain": [
          0.625,
          1
         ]
        },
        "yaxis3": {
         "anchor": "x3",
         "domain": [
          0,
          0.375
         ]
        },
        "yaxis4": {
         "anchor": "x4",
         "domain": [
          0,
          0.375
         ]
        }
       }
      },
      "text/html": [
       "<div>                            <div id=\"a7c10b8b-1b56-4ec4-954b-3e61ba34519c\" class=\"plotly-graph-div\" style=\"height:525px; width:100%;\"></div>            <script type=\"text/javascript\">                require([\"plotly\"], function(Plotly) {                    window.PLOTLYENV=window.PLOTLYENV || {};                                    if (document.getElementById(\"a7c10b8b-1b56-4ec4-954b-3e61ba34519c\")) {                    Plotly.newPlot(                        \"a7c10b8b-1b56-4ec4-954b-3e61ba34519c\",                        [{\"marker\": {\"color\": [\"grey\", \"grey\", \"grey\", \"grey\", \"grey\", \"grey\", \"grey\", \"grey\", \"grey\", \"grey\", \"grey\", \"grey\", \"grey\", \"green\", \"grey\", \"grey\", \"grey\", \"grey\", \"grey\", \"grey\"]}, \"type\": \"histogram\", \"x\": [71.58397261828, 81.2396186293553, 0.622800994060565, 45.6841933549277, 88.381659288699, 43.3802652186011, 27.6887783762974, 37.6675757226655, 19.0852951765453, 65.916603421829, 63.1599442419566, 83.4653623522671, 77.0536379015146, 69.446940574879, 66.1177544305022, 4.93746710648361, 9.07527183031073, 19.0067952357607, 46.9132914357104, 9.25563612921574, 50.7714983312766, 72.8710817279139, 19.9024976653033, 91.0368584907844], \"xaxis\": \"x\", \"xbins\": {\"end\": 100, \"size\": 5, \"start\": 0}, \"yaxis\": \"y\"}, {\"marker\": {\"color\": [\"grey\", \"grey\", \"grey\", \"grey\", \"grey\", \"grey\", \"grey\", \"grey\", \"grey\", \"grey\", \"yellow\", \"grey\", \"grey\", \"grey\", \"grey\", \"grey\", \"grey\", \"grey\", \"grey\", \"grey\"]}, \"type\": \"histogram\", \"x\": [69.6821627791776, 74.1716202537098, 0.0, 48.3194148306088, 93.0319158896004, 28.5778897719196, 29.1859156597962, 45.6149986000732, 8.85238310611445, 72.2976701987896, 65.3033846198677, 80.6823513127604, 97.5336110495437, 90.1872536667312, 53.4567422627124, 0.0, 6.57857896663867, 5.55555555555555, 24.2416985951468, 0.0, 52.775701547338, 78.2002724597138, 4.10353535353535, 86.212605802158], \"xaxis\": \"x2\", \"xbins\": {\"end\": 100, \"size\": 5, \"start\": 0}, \"yaxis\": \"y2\"}, {\"marker\": {\"color\": [\"grey\", \"grey\", \"grey\", \"grey\", \"grey\", \"grey\", \"grey\", \"grey\", \"grey\", \"grey\", \"grey\", \"grey\", \"grey\", \"grey\", \"grey\", \"green\", \"grey\", \"grey\", \"grey\", \"grey\"]}, \"type\": \"histogram\", \"x\": [79.6418891268983, 83.7776328109475, 1.2150269276238, 38.6229842172801, 86.7566985123041, 27.1086463943254, 33.4377536568689, 38.8237625754865, 18.9515466964402, 63.069612286002, 76.2405617432975, 85.2046408819759, 80.9445265204329, 73.8847412657835, 78.5984437045943, 6.65596676737161, 14.5755341740006, 21.1521188862578, 52.2484561202958, 12.3096731468102, 54.1523800033518, 69.6932311789724, 21.6705799290687, 92.0474782507654], \"xaxis\": \"x3\", \"xbins\": {\"end\": 100, \"size\": 5, \"start\": 0}, \"yaxis\": \"y3\"}, {\"marker\": {\"color\": [\"grey\", \"grey\", \"grey\", \"grey\", \"grey\", \"grey\", \"grey\", \"grey\", \"grey\", \"grey\", \"grey\", \"yellow\", \"grey\", \"grey\", \"grey\", \"grey\", \"grey\", \"grey\", \"grey\", \"grey\"]}, \"type\": \"histogram\", \"x\": [59.0485312899105, 85.0540906017579, 0.281124497991967, 55.5067066094513, 85.7894736842105, 91.0648148148148, 15.3204868701589, 26.0045691126444, 31.6107382550335, 63.4946236559139, 36.5340136054421, 83.6066356367108, 41.7455487942303, 36.3979424830488, 58.3603682000475, 7.7022977022977, 1.95693195693195, 31.2032710280373, 64.3084277855107, 14.7463647463647, 42.1493887305759, 72.3197669147524, 35.6099456099456, 94.9675442696162], \"xaxis\": \"x4\", \"xbins\": {\"end\": 100, \"size\": 5, \"start\": 0}, \"yaxis\": \"y4\"}],                        {\"annotations\": [{\"font\": {\"size\": 16}, \"showarrow\": false, \"text\": \"ESG Score (66)\", \"x\": 0.225, \"xanchor\": \"center\", \"xref\": \"paper\", \"y\": 1.0, \"yanchor\": \"bottom\", \"yref\": \"paper\"}, {\"font\": {\"size\": 16}, \"showarrow\": false, \"text\": \"Environment Pillar Score (53)\", \"x\": 0.775, \"xanchor\": \"center\", \"xref\": \"paper\", \"y\": 1.0, \"yanchor\": \"bottom\", \"yref\": \"paper\"}, {\"font\": {\"size\": 16}, \"showarrow\": false, \"text\": \"Social Pillar Score (78)\", \"x\": 0.225, \"xanchor\": \"center\", \"xref\": \"paper\", \"y\": 0.375, \"yanchor\": \"bottom\", \"yref\": \"paper\"}, {\"font\": {\"size\": 16}, \"showarrow\": false, \"text\": \"Governance Pillar Score (58)\", \"x\": 0.775, \"xanchor\": \"center\", \"xref\": \"paper\", \"y\": 0.375, \"yanchor\": \"bottom\", \"yref\": \"paper\"}], \"bargap\": 0.2, \"showlegend\": false, \"template\": {\"data\": {\"bar\": [{\"error_x\": {\"color\": \"#2a3f5f\"}, \"error_y\": {\"color\": \"#2a3f5f\"}, \"marker\": {\"line\": {\"color\": \"#E5ECF6\", \"width\": 0.5}}, \"type\": \"bar\"}], \"barpolar\": [{\"marker\": {\"line\": {\"color\": \"#E5ECF6\", \"width\": 0.5}}, \"type\": \"barpolar\"}], \"carpet\": [{\"aaxis\": {\"endlinecolor\": \"#2a3f5f\", \"gridcolor\": \"white\", \"linecolor\": \"white\", \"minorgridcolor\": \"white\", \"startlinecolor\": \"#2a3f5f\"}, \"baxis\": {\"endlinecolor\": \"#2a3f5f\", \"gridcolor\": \"white\", \"linecolor\": \"white\", \"minorgridcolor\": \"white\", \"startlinecolor\": \"#2a3f5f\"}, \"type\": \"carpet\"}], \"choropleth\": [{\"colorbar\": {\"outlinewidth\": 0, \"ticks\": \"\"}, \"type\": \"choropleth\"}], \"contour\": [{\"colorbar\": {\"outlinewidth\": 0, \"ticks\": \"\"}, \"colorscale\": [[0.0, \"#0d0887\"], [0.1111111111111111, \"#46039f\"], [0.2222222222222222, \"#7201a8\"], [0.3333333333333333, \"#9c179e\"], [0.4444444444444444, \"#bd3786\"], [0.5555555555555556, \"#d8576b\"], [0.6666666666666666, \"#ed7953\"], [0.7777777777777778, \"#fb9f3a\"], [0.8888888888888888, \"#fdca26\"], [1.0, \"#f0f921\"]], \"type\": \"contour\"}], \"contourcarpet\": [{\"colorbar\": {\"outlinewidth\": 0, \"ticks\": \"\"}, \"type\": \"contourcarpet\"}], \"heatmap\": [{\"colorbar\": {\"outlinewidth\": 0, \"ticks\": \"\"}, \"colorscale\": [[0.0, \"#0d0887\"], [0.1111111111111111, \"#46039f\"], [0.2222222222222222, \"#7201a8\"], [0.3333333333333333, \"#9c179e\"], [0.4444444444444444, \"#bd3786\"], [0.5555555555555556, \"#d8576b\"], [0.6666666666666666, \"#ed7953\"], [0.7777777777777778, \"#fb9f3a\"], [0.8888888888888888, \"#fdca26\"], [1.0, \"#f0f921\"]], \"type\": \"heatmap\"}], \"heatmapgl\": [{\"colorbar\": {\"outlinewidth\": 0, \"ticks\": \"\"}, \"colorscale\": [[0.0, \"#0d0887\"], [0.1111111111111111, \"#46039f\"], [0.2222222222222222, \"#7201a8\"], [0.3333333333333333, \"#9c179e\"], [0.4444444444444444, \"#bd3786\"], [0.5555555555555556, \"#d8576b\"], [0.6666666666666666, \"#ed7953\"], [0.7777777777777778, \"#fb9f3a\"], [0.8888888888888888, \"#fdca26\"], [1.0, \"#f0f921\"]], \"type\": \"heatmapgl\"}], \"histogram\": [{\"marker\": {\"colorbar\": {\"outlinewidth\": 0, \"ticks\": \"\"}}, \"type\": \"histogram\"}], \"histogram2d\": [{\"colorbar\": {\"outlinewidth\": 0, \"ticks\": \"\"}, \"colorscale\": [[0.0, \"#0d0887\"], [0.1111111111111111, \"#46039f\"], [0.2222222222222222, \"#7201a8\"], [0.3333333333333333, \"#9c179e\"], [0.4444444444444444, \"#bd3786\"], [0.5555555555555556, \"#d8576b\"], [0.6666666666666666, \"#ed7953\"], [0.7777777777777778, \"#fb9f3a\"], [0.8888888888888888, \"#fdca26\"], [1.0, \"#f0f921\"]], \"type\": \"histogram2d\"}], \"histogram2dcontour\": [{\"colorbar\": {\"outlinewidth\": 0, \"ticks\": \"\"}, \"colorscale\": [[0.0, \"#0d0887\"], [0.1111111111111111, \"#46039f\"], [0.2222222222222222, \"#7201a8\"], [0.3333333333333333, \"#9c179e\"], [0.4444444444444444, \"#bd3786\"], [0.5555555555555556, \"#d8576b\"], [0.6666666666666666, \"#ed7953\"], [0.7777777777777778, \"#fb9f3a\"], [0.8888888888888888, \"#fdca26\"], [1.0, \"#f0f921\"]], \"type\": \"histogram2dcontour\"}], \"mesh3d\": [{\"colorbar\": {\"outlinewidth\": 0, \"ticks\": \"\"}, \"type\": \"mesh3d\"}], \"parcoords\": [{\"line\": {\"colorbar\": {\"outlinewidth\": 0, \"ticks\": \"\"}}, \"type\": \"parcoords\"}], \"pie\": [{\"automargin\": true, \"type\": \"pie\"}], \"scatter\": [{\"marker\": {\"colorbar\": {\"outlinewidth\": 0, \"ticks\": \"\"}}, \"type\": \"scatter\"}], \"scatter3d\": [{\"line\": {\"colorbar\": {\"outlinewidth\": 0, \"ticks\": \"\"}}, \"marker\": {\"colorbar\": {\"outlinewidth\": 0, \"ticks\": \"\"}}, \"type\": \"scatter3d\"}], \"scattercarpet\": [{\"marker\": {\"colorbar\": {\"outlinewidth\": 0, \"ticks\": \"\"}}, \"type\": \"scattercarpet\"}], \"scattergeo\": [{\"marker\": {\"colorbar\": {\"outlinewidth\": 0, \"ticks\": \"\"}}, \"type\": \"scattergeo\"}], \"scattergl\": [{\"marker\": {\"colorbar\": {\"outlinewidth\": 0, \"ticks\": \"\"}}, \"type\": \"scattergl\"}], \"scattermapbox\": [{\"marker\": {\"colorbar\": {\"outlinewidth\": 0, \"ticks\": \"\"}}, \"type\": \"scattermapbox\"}], \"scatterpolar\": [{\"marker\": {\"colorbar\": {\"outlinewidth\": 0, \"ticks\": \"\"}}, \"type\": \"scatterpolar\"}], \"scatterpolargl\": [{\"marker\": {\"colorbar\": {\"outlinewidth\": 0, \"ticks\": \"\"}}, \"type\": \"scatterpolargl\"}], \"scatterternary\": [{\"marker\": {\"colorbar\": {\"outlinewidth\": 0, \"ticks\": \"\"}}, \"type\": \"scatterternary\"}], \"surface\": [{\"colorbar\": {\"outlinewidth\": 0, \"ticks\": \"\"}, \"colorscale\": [[0.0, \"#0d0887\"], [0.1111111111111111, \"#46039f\"], [0.2222222222222222, \"#7201a8\"], [0.3333333333333333, \"#9c179e\"], [0.4444444444444444, \"#bd3786\"], [0.5555555555555556, \"#d8576b\"], [0.6666666666666666, \"#ed7953\"], [0.7777777777777778, \"#fb9f3a\"], [0.8888888888888888, \"#fdca26\"], [1.0, \"#f0f921\"]], \"type\": \"surface\"}], \"table\": [{\"cells\": {\"fill\": {\"color\": \"#EBF0F8\"}, \"line\": {\"color\": \"white\"}}, \"header\": {\"fill\": {\"color\": \"#C8D4E3\"}, \"line\": {\"color\": \"white\"}}, \"type\": \"table\"}]}, \"layout\": {\"annotationdefaults\": {\"arrowcolor\": \"#2a3f5f\", \"arrowhead\": 0, \"arrowwidth\": 1}, \"coloraxis\": {\"colorbar\": {\"outlinewidth\": 0, \"ticks\": \"\"}}, \"colorscale\": {\"diverging\": [[0, \"#8e0152\"], [0.1, \"#c51b7d\"], [0.2, \"#de77ae\"], [0.3, \"#f1b6da\"], [0.4, \"#fde0ef\"], [0.5, \"#f7f7f7\"], [0.6, \"#e6f5d0\"], [0.7, \"#b8e186\"], [0.8, \"#7fbc41\"], [0.9, \"#4d9221\"], [1, \"#276419\"]], \"sequential\": [[0.0, \"#0d0887\"], [0.1111111111111111, \"#46039f\"], [0.2222222222222222, \"#7201a8\"], [0.3333333333333333, \"#9c179e\"], [0.4444444444444444, \"#bd3786\"], [0.5555555555555556, \"#d8576b\"], [0.6666666666666666, \"#ed7953\"], [0.7777777777777778, \"#fb9f3a\"], [0.8888888888888888, \"#fdca26\"], [1.0, \"#f0f921\"]], \"sequentialminus\": [[0.0, \"#0d0887\"], [0.1111111111111111, \"#46039f\"], [0.2222222222222222, \"#7201a8\"], [0.3333333333333333, \"#9c179e\"], [0.4444444444444444, \"#bd3786\"], [0.5555555555555556, \"#d8576b\"], [0.6666666666666666, \"#ed7953\"], [0.7777777777777778, \"#fb9f3a\"], [0.8888888888888888, \"#fdca26\"], [1.0, \"#f0f921\"]]}, \"colorway\": [\"#636efa\", \"#EF553B\", \"#00cc96\", \"#ab63fa\", \"#FFA15A\", \"#19d3f3\", \"#FF6692\", \"#B6E880\", \"#FF97FF\", \"#FECB52\"], \"font\": {\"color\": \"#2a3f5f\"}, \"geo\": {\"bgcolor\": \"white\", \"lakecolor\": \"white\", \"landcolor\": \"#E5ECF6\", \"showlakes\": true, \"showland\": true, \"subunitcolor\": \"white\"}, \"hoverlabel\": {\"align\": \"left\"}, \"hovermode\": \"closest\", \"mapbox\": {\"style\": \"light\"}, \"paper_bgcolor\": \"white\", \"plot_bgcolor\": \"#E5ECF6\", \"polar\": {\"angularaxis\": {\"gridcolor\": \"white\", \"linecolor\": \"white\", \"ticks\": \"\"}, \"bgcolor\": \"#E5ECF6\", \"radialaxis\": {\"gridcolor\": \"white\", \"linecolor\": \"white\", \"ticks\": \"\"}}, \"scene\": {\"xaxis\": {\"backgroundcolor\": \"#E5ECF6\", \"gridcolor\": \"white\", \"gridwidth\": 2, \"linecolor\": \"white\", \"showbackground\": true, \"ticks\": \"\", \"zerolinecolor\": \"white\"}, \"yaxis\": {\"backgroundcolor\": \"#E5ECF6\", \"gridcolor\": \"white\", \"gridwidth\": 2, \"linecolor\": \"white\", \"showbackground\": true, \"ticks\": \"\", \"zerolinecolor\": \"white\"}, \"zaxis\": {\"backgroundcolor\": \"#E5ECF6\", \"gridcolor\": \"white\", \"gridwidth\": 2, \"linecolor\": \"white\", \"showbackground\": true, \"ticks\": \"\", \"zerolinecolor\": \"white\"}}, \"shapedefaults\": {\"line\": {\"color\": \"#2a3f5f\"}}, \"ternary\": {\"aaxis\": {\"gridcolor\": \"white\", \"linecolor\": \"white\", \"ticks\": \"\"}, \"baxis\": {\"gridcolor\": \"white\", \"linecolor\": \"white\", \"ticks\": \"\"}, \"bgcolor\": \"#E5ECF6\", \"caxis\": {\"gridcolor\": \"white\", \"linecolor\": \"white\", \"ticks\": \"\"}}, \"title\": {\"x\": 0.05}, \"xaxis\": {\"automargin\": true, \"gridcolor\": \"white\", \"linecolor\": \"white\", \"ticks\": \"\", \"title\": {\"standoff\": 15}, \"zerolinecolor\": \"white\", \"zerolinewidth\": 2}, \"yaxis\": {\"automargin\": true, \"gridcolor\": \"white\", \"linecolor\": \"white\", \"ticks\": \"\", \"title\": {\"standoff\": 15}, \"zerolinecolor\": \"white\", \"zerolinewidth\": 2}}}, \"title\": {\"text\": \"Coca-Cola Co<br>Non-Alcoholic Beverages - NEC\"}, \"xaxis\": {\"anchor\": \"y\", \"domain\": [0.0, 0.45]}, \"xaxis2\": {\"anchor\": \"y2\", \"domain\": [0.55, 1.0]}, \"xaxis3\": {\"anchor\": \"y3\", \"domain\": [0.0, 0.45]}, \"xaxis4\": {\"anchor\": \"y4\", \"domain\": [0.55, 1.0]}, \"yaxis\": {\"anchor\": \"x\", \"domain\": [0.625, 1.0]}, \"yaxis2\": {\"anchor\": \"x2\", \"domain\": [0.625, 1.0]}, \"yaxis3\": {\"anchor\": \"x3\", \"domain\": [0.0, 0.375]}, \"yaxis4\": {\"anchor\": \"x4\", \"domain\": [0.0, 0.375]}},                        {\"responsive\": true}                    ).then(function(){\n",
       "                            \n",
       "var gd = document.getElementById('a7c10b8b-1b56-4ec4-954b-3e61ba34519c');\n",
       "var x = new MutationObserver(function (mutations, observer) {{\n",
       "        var display = window.getComputedStyle(gd).display;\n",
       "        if (!display || display === 'none') {{\n",
       "            console.log([gd, 'removed!']);\n",
       "            Plotly.purge(gd);\n",
       "            observer.disconnect();\n",
       "        }}\n",
       "}});\n",
       "\n",
       "// Listen for the removal of the full notebook cells\n",
       "var notebookContainer = gd.closest('#notebook-container');\n",
       "if (notebookContainer) {{\n",
       "    x.observe(notebookContainer, {childList: true});\n",
       "}}\n",
       "\n",
       "// Listen for the clearing of the current output cell\n",
       "var outputEl = gd.closest('.output');\n",
       "if (outputEl) {{\n",
       "    x.observe(outputEl, {childList: true});\n",
       "}}\n",
       "\n",
       "                        })                };                });            </script>        </div>"
      ]
     },
     "metadata": {},
     "output_type": "display_data"
    }
   ],
   "source": [
    "plotQuantilesV2('KO')"
   ]
  },
  {
   "cell_type": "code",
   "execution_count": null,
   "metadata": {},
   "outputs": [],
   "source": []
  }
 ],
 "metadata": {
  "kernelspec": {
   "display_name": "Python 3",
   "language": "python",
   "name": "python3"
  },
  "language_info": {
   "codemirror_mode": {
    "name": "ipython",
    "version": 3
   },
   "file_extension": ".py",
   "mimetype": "text/x-python",
   "name": "python",
   "nbconvert_exporter": "python",
   "pygments_lexer": "ipython3",
   "version": "3.8.6"
  }
 },
 "nbformat": 4,
 "nbformat_minor": 4
}
